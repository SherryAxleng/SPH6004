{
 "cells": [
  {
   "cell_type": "code",
   "execution_count": 1,
   "id": "52ee0add",
   "metadata": {},
   "outputs": [
    {
     "name": "stdout",
     "output_type": "stream",
     "text": [
      "Requirement already satisfied: pandas in c:\\users\\axleng\\appdata\\local\\programs\\python\\python310\\lib\\site-packages (1.5.3)\n",
      "Requirement already satisfied: numpy>=1.21.0 in c:\\users\\axleng\\appdata\\local\\programs\\python\\python310\\lib\\site-packages (from pandas) (1.23.4)\n",
      "Requirement already satisfied: pytz>=2020.1 in c:\\users\\axleng\\appdata\\local\\programs\\python\\python310\\lib\\site-packages (from pandas) (2022.7.1)\n",
      "Requirement already satisfied: python-dateutil>=2.8.1 in c:\\users\\axleng\\appdata\\local\\programs\\python\\python310\\lib\\site-packages (from pandas) (2.8.2)\n",
      "Requirement already satisfied: six>=1.5 in c:\\users\\axleng\\appdata\\local\\programs\\python\\python310\\lib\\site-packages (from python-dateutil>=2.8.1->pandas) (1.16.0)\n",
      "Note: you may need to restart the kernel to use updated packages.\n"
     ]
    },
    {
     "name": "stderr",
     "output_type": "stream",
     "text": [
      "\n",
      "[notice] A new release of pip available: 22.3 -> 23.0.1\n",
      "[notice] To update, run: python.exe -m pip install --upgrade pip\n"
     ]
    }
   ],
   "source": [
    "pip install pandas"
   ]
  },
  {
   "cell_type": "code",
   "execution_count": 2,
   "id": "5649f721",
   "metadata": {},
   "outputs": [
    {
     "name": "stdout",
     "output_type": "stream",
     "text": [
      "Requirement already satisfied: scikit-learn in c:\\users\\axleng\\appdata\\local\\programs\\python\\python310\\lib\\site-packages (1.2.1)\n",
      "Requirement already satisfied: numpy>=1.17.3 in c:\\users\\axleng\\appdata\\local\\programs\\python\\python310\\lib\\site-packages (from scikit-learn) (1.23.4)\n",
      "Requirement already satisfied: joblib>=1.1.1 in c:\\users\\axleng\\appdata\\local\\programs\\python\\python310\\lib\\site-packages (from scikit-learn) (1.2.0)\n",
      "Requirement already satisfied: scipy>=1.3.2 in c:\\users\\axleng\\appdata\\local\\programs\\python\\python310\\lib\\site-packages (from scikit-learn) (1.9.3)\n",
      "Requirement already satisfied: threadpoolctl>=2.0.0 in c:\\users\\axleng\\appdata\\local\\programs\\python\\python310\\lib\\site-packages (from scikit-learn) (3.1.0)\n",
      "Note: you may need to restart the kernel to use updated packages.\n"
     ]
    },
    {
     "name": "stderr",
     "output_type": "stream",
     "text": [
      "\n",
      "[notice] A new release of pip available: 22.3 -> 23.0.1\n",
      "[notice] To update, run: python.exe -m pip install --upgrade pip\n"
     ]
    }
   ],
   "source": [
    "pip install scikit-learn"
   ]
  },
  {
   "cell_type": "code",
   "execution_count": 3,
   "id": "96893f26",
   "metadata": {},
   "outputs": [
    {
     "name": "stdout",
     "output_type": "stream",
     "text": [
      "Note: you may need to restart the kernel to use updated packages.Requirement already satisfied: sklearn_genetic in c:\\users\\axleng\\appdata\\local\\programs\\python\\python310\\lib\\site-packages (0.5.1)\n",
      "Requirement already satisfied: multiprocess in c:\\users\\axleng\\appdata\\local\\programs\\python\\python310\\lib\\site-packages (from sklearn_genetic) (0.70.14)\n",
      "Requirement already satisfied: numpy in c:\\users\\axleng\\appdata\\local\\programs\\python\\python310\\lib\\site-packages (from sklearn_genetic) (1.23.4)\n",
      "Requirement already satisfied: deap>=1.0.2 in c:\\users\\axleng\\appdata\\local\\programs\\python\\python310\\lib\\site-packages (from sklearn_genetic) (1.3.3)\n",
      "Requirement already satisfied: scikit-learn>=0.23 in c:\\users\\axleng\\appdata\\local\\programs\\python\\python310\\lib\\site-packages (from sklearn_genetic) (1.2.1)\n",
      "Requirement already satisfied: joblib>=1.1.1 in c:\\users\\axleng\\appdata\\local\\programs\\python\\python310\\lib\\site-packages (from scikit-learn>=0.23->sklearn_genetic) (1.2.0)\n",
      "Requirement already satisfied: threadpoolctl>=2.0.0 in c:\\users\\axleng\\appdata\\local\\programs\\python\\python310\\lib\\site-packages (from scikit-learn>=0.23->sklearn_genetic) (3.1.0)\n",
      "Requirement already satisfied: scipy>=1.3.2 in c:\\users\\axleng\\appdata\\local\\programs\\python\\python310\\lib\\site-packages (from scikit-learn>=0.23->sklearn_genetic) (1.9.3)\n",
      "Requirement already satisfied: dill>=0.3.6 in c:\\users\\axleng\\appdata\\local\\programs\\python\\python310\\lib\\site-packages (from multiprocess->sklearn_genetic) (0.3.6)\n",
      "\n"
     ]
    },
    {
     "name": "stderr",
     "output_type": "stream",
     "text": [
      "\n",
      "[notice] A new release of pip available: 22.3 -> 23.0.1\n",
      "[notice] To update, run: python.exe -m pip install --upgrade pip\n"
     ]
    }
   ],
   "source": [
    "pip install sklearn_genetic"
   ]
  },
  {
   "cell_type": "code",
   "execution_count": 4,
   "id": "31bae22c",
   "metadata": {},
   "outputs": [
    {
     "name": "stdout",
     "output_type": "stream",
     "text": [
      "Requirement already satisfied: matplotlib in c:\\users\\axleng\\appdata\\local\\programs\\python\\python310\\lib\\site-packages (3.7.0)\n",
      "Requirement already satisfied: cycler>=0.10 in c:\\users\\axleng\\appdata\\local\\programs\\python\\python310\\lib\\site-packages (from matplotlib) (0.11.0)\n",
      "Requirement already satisfied: numpy>=1.20 in c:\\users\\axleng\\appdata\\local\\programs\\python\\python310\\lib\\site-packages (from matplotlib) (1.23.4)\n",
      "Requirement already satisfied: kiwisolver>=1.0.1 in c:\\users\\axleng\\appdata\\local\\programs\\python\\python310\\lib\\site-packages (from matplotlib) (1.4.4)\n",
      "Requirement already satisfied: packaging>=20.0 in c:\\users\\axleng\\appdata\\local\\programs\\python\\python310\\lib\\site-packages (from matplotlib) (21.3)\n",
      "Requirement already satisfied: contourpy>=1.0.1 in c:\\users\\axleng\\appdata\\local\\programs\\python\\python310\\lib\\site-packages (from matplotlib) (1.0.7)\n",
      "Requirement already satisfied: pillow>=6.2.0 in c:\\users\\axleng\\appdata\\local\\programs\\python\\python310\\lib\\site-packages (from matplotlib) (9.4.0)\n",
      "Requirement already satisfied: pyparsing>=2.3.1 in c:\\users\\axleng\\appdata\\local\\programs\\python\\python310\\lib\\site-packages (from matplotlib) (3.0.9)\n",
      "Requirement already satisfied: python-dateutil>=2.7 in c:\\users\\axleng\\appdata\\local\\programs\\python\\python310\\lib\\site-packages (from matplotlib) (2.8.2)\n",
      "Requirement already satisfied: fonttools>=4.22.0 in c:\\users\\axleng\\appdata\\local\\programs\\python\\python310\\lib\\site-packages (from matplotlib) (4.38.0)\n",
      "Requirement already satisfied: six>=1.5 in c:\\users\\axleng\\appdata\\local\\programs\\python\\python310\\lib\\site-packages (from python-dateutil>=2.7->matplotlib) (1.16.0)\n",
      "Note: you may need to restart the kernel to use updated packages.\n"
     ]
    },
    {
     "name": "stderr",
     "output_type": "stream",
     "text": [
      "\n",
      "[notice] A new release of pip available: 22.3 -> 23.0.1\n",
      "[notice] To update, run: python.exe -m pip install --upgrade pip\n"
     ]
    }
   ],
   "source": [
    "pip install matplotlib"
   ]
  },
  {
   "cell_type": "code",
   "execution_count": 5,
   "id": "bc8c446d",
   "metadata": {},
   "outputs": [
    {
     "name": "stdout",
     "output_type": "stream",
     "text": [
      "Requirement already satisfied: imblearn in c:\\users\\axleng\\appdata\\local\\programs\\python\\python310\\lib\\site-packages (0.0)\n",
      "Requirement already satisfied: imbalanced-learn in c:\\users\\axleng\\appdata\\local\\programs\\python\\python310\\lib\\site-packages (from imblearn) (0.10.1)\n",
      "Requirement already satisfied: numpy>=1.17.3 in c:\\users\\axleng\\appdata\\local\\programs\\python\\python310\\lib\\site-packages (from imbalanced-learn->imblearn) (1.23.4)\n",
      "Requirement already satisfied: joblib>=1.1.1 in c:\\users\\axleng\\appdata\\local\\programs\\python\\python310\\lib\\site-packages (from imbalanced-learn->imblearn) (1.2.0)\n",
      "Requirement already satisfied: scikit-learn>=1.0.2 in c:\\users\\axleng\\appdata\\local\\programs\\python\\python310\\lib\\site-packages (from imbalanced-learn->imblearn) (1.2.1)\n",
      "Requirement already satisfied: scipy>=1.3.2 in c:\\users\\axleng\\appdata\\local\\programs\\python\\python310\\lib\\site-packages (from imbalanced-learn->imblearn) (1.9.3)\n",
      "Requirement already satisfied: threadpoolctl>=2.0.0 in c:\\users\\axleng\\appdata\\local\\programs\\python\\python310\\lib\\site-packages (from imbalanced-learn->imblearn) (3.1.0)\n",
      "Note: you may need to restart the kernel to use updated packages.\n"
     ]
    },
    {
     "name": "stderr",
     "output_type": "stream",
     "text": [
      "\n",
      "[notice] A new release of pip available: 22.3 -> 23.0.1\n",
      "[notice] To update, run: python.exe -m pip install --upgrade pip\n"
     ]
    }
   ],
   "source": [
    "pip install imblearn"
   ]
  },
  {
   "cell_type": "code",
   "execution_count": 6,
   "id": "33c3d1dd",
   "metadata": {},
   "outputs": [
    {
     "name": "stdout",
     "output_type": "stream",
     "text": [
      "Requirement already satisfied: xgboost in c:\\users\\axleng\\appdata\\local\\programs\\python\\python310\\lib\\site-packages (1.7.4)\n",
      "Requirement already satisfied: numpy in c:\\users\\axleng\\appdata\\local\\programs\\python\\python310\\lib\\site-packages (from xgboost) (1.23.4)\n",
      "Requirement already satisfied: scipy in c:\\users\\axleng\\appdata\\local\\programs\\python\\python310\\lib\\site-packages (from xgboost) (1.9.3)\n",
      "Note: you may need to restart the kernel to use updated packages.\n"
     ]
    },
    {
     "name": "stderr",
     "output_type": "stream",
     "text": [
      "\n",
      "[notice] A new release of pip available: 22.3 -> 23.0.1\n",
      "[notice] To update, run: python.exe -m pip install --upgrade pip\n"
     ]
    }
   ],
   "source": [
    "pip install xgboost"
   ]
  },
  {
   "cell_type": "code",
   "execution_count": 7,
   "id": "b9ca625a-b679-46f1-9da4-2b61173ce749",
   "metadata": {},
   "outputs": [],
   "source": [
    "import numpy as np\n",
    "import pandas as pd"
   ]
  },
  {
   "cell_type": "code",
   "execution_count": 8,
   "id": "0b9ac157",
   "metadata": {},
   "outputs": [],
   "source": [
    "from sklearn.impute import KNNImputer"
   ]
  },
  {
   "cell_type": "code",
   "execution_count": 9,
   "id": "496a1683",
   "metadata": {},
   "outputs": [],
   "source": [
    "from sklearn.decomposition import PCA"
   ]
  },
  {
   "cell_type": "code",
   "execution_count": 10,
   "id": "ee41e7a4",
   "metadata": {},
   "outputs": [],
   "source": [
    "from sklearn.model_selection import train_test_split\n",
    "from sklearn.preprocessing import StandardScaler\n",
    "from sklearn import linear_model\n",
    "from sklearn.tree import DecisionTreeClassifier\n",
    "from sklearn.ensemble import RandomForestClassifier\n",
    "from sklearn import svm\n",
    "from sklearn.metrics import accuracy_score\n",
    "from matplotlib import pyplot as plt"
   ]
  },
  {
   "cell_type": "code",
   "execution_count": 11,
   "id": "e4dfe131-f252-4c35-8fc9-88c3af0b29f1",
   "metadata": {},
   "outputs": [
    {
     "data": {
      "text/html": [
       "<div>\n",
       "<style scoped>\n",
       "    .dataframe tbody tr th:only-of-type {\n",
       "        vertical-align: middle;\n",
       "    }\n",
       "\n",
       "    .dataframe tbody tr th {\n",
       "        vertical-align: top;\n",
       "    }\n",
       "\n",
       "    .dataframe thead th {\n",
       "        text-align: right;\n",
       "    }\n",
       "</style>\n",
       "<table border=\"1\" class=\"dataframe\">\n",
       "  <thead>\n",
       "    <tr style=\"text-align: right;\">\n",
       "      <th></th>\n",
       "      <th>gender</th>\n",
       "      <th>age</th>\n",
       "      <th>heart_rate_min</th>\n",
       "      <th>heart_rate_max</th>\n",
       "      <th>heart_rate_mean</th>\n",
       "      <th>mbp_min</th>\n",
       "      <th>mbp_max</th>\n",
       "      <th>mbp_mean</th>\n",
       "      <th>sbp_min</th>\n",
       "      <th>sbp_max</th>\n",
       "      <th>...</th>\n",
       "      <th>bilirubin_indirect_min</th>\n",
       "      <th>urineoutput</th>\n",
       "      <th>sofa_respiration</th>\n",
       "      <th>sofa_coagulation</th>\n",
       "      <th>sofa_liver</th>\n",
       "      <th>sofa_cardiovascular</th>\n",
       "      <th>sofa_cns</th>\n",
       "      <th>sofa_renal</th>\n",
       "      <th>charlson_comorbidity_index</th>\n",
       "      <th>outcome</th>\n",
       "    </tr>\n",
       "  </thead>\n",
       "  <tbody>\n",
       "    <tr>\n",
       "      <th>0</th>\n",
       "      <td>M</td>\n",
       "      <td>54.550390</td>\n",
       "      <td>93.0</td>\n",
       "      <td>115.0</td>\n",
       "      <td>103.500000</td>\n",
       "      <td>57.0</td>\n",
       "      <td>100.0</td>\n",
       "      <td>82.733333</td>\n",
       "      <td>87.0</td>\n",
       "      <td>163.0</td>\n",
       "      <td>...</td>\n",
       "      <td>NaN</td>\n",
       "      <td>3459.0</td>\n",
       "      <td>2.0</td>\n",
       "      <td>0.0</td>\n",
       "      <td>NaN</td>\n",
       "      <td>1.0</td>\n",
       "      <td>0.0</td>\n",
       "      <td>1.0</td>\n",
       "      <td>3</td>\n",
       "      <td>False</td>\n",
       "    </tr>\n",
       "    <tr>\n",
       "      <th>1</th>\n",
       "      <td>M</td>\n",
       "      <td>86.324653</td>\n",
       "      <td>50.0</td>\n",
       "      <td>61.0</td>\n",
       "      <td>54.333333</td>\n",
       "      <td>61.0</td>\n",
       "      <td>93.0</td>\n",
       "      <td>71.695652</td>\n",
       "      <td>95.0</td>\n",
       "      <td>141.0</td>\n",
       "      <td>...</td>\n",
       "      <td>NaN</td>\n",
       "      <td>2020.0</td>\n",
       "      <td>NaN</td>\n",
       "      <td>1.0</td>\n",
       "      <td>NaN</td>\n",
       "      <td>1.0</td>\n",
       "      <td>1.0</td>\n",
       "      <td>1.0</td>\n",
       "      <td>8</td>\n",
       "      <td>False</td>\n",
       "    </tr>\n",
       "    <tr>\n",
       "      <th>2</th>\n",
       "      <td>M</td>\n",
       "      <td>40.270146</td>\n",
       "      <td>70.0</td>\n",
       "      <td>105.0</td>\n",
       "      <td>83.434783</td>\n",
       "      <td>66.0</td>\n",
       "      <td>92.0</td>\n",
       "      <td>76.695652</td>\n",
       "      <td>94.0</td>\n",
       "      <td>129.0</td>\n",
       "      <td>...</td>\n",
       "      <td>NaN</td>\n",
       "      <td>3050.0</td>\n",
       "      <td>NaN</td>\n",
       "      <td>1.0</td>\n",
       "      <td>0.0</td>\n",
       "      <td>1.0</td>\n",
       "      <td>1.0</td>\n",
       "      <td>0.0</td>\n",
       "      <td>4</td>\n",
       "      <td>False</td>\n",
       "    </tr>\n",
       "    <tr>\n",
       "      <th>3</th>\n",
       "      <td>M</td>\n",
       "      <td>73.383547</td>\n",
       "      <td>68.0</td>\n",
       "      <td>98.0</td>\n",
       "      <td>83.880000</td>\n",
       "      <td>74.0</td>\n",
       "      <td>101.0</td>\n",
       "      <td>84.694444</td>\n",
       "      <td>83.0</td>\n",
       "      <td>148.0</td>\n",
       "      <td>...</td>\n",
       "      <td>NaN</td>\n",
       "      <td>1592.0</td>\n",
       "      <td>NaN</td>\n",
       "      <td>0.0</td>\n",
       "      <td>NaN</td>\n",
       "      <td>0.0</td>\n",
       "      <td>0.0</td>\n",
       "      <td>1.0</td>\n",
       "      <td>6</td>\n",
       "      <td>False</td>\n",
       "    </tr>\n",
       "    <tr>\n",
       "      <th>4</th>\n",
       "      <td>M</td>\n",
       "      <td>70.724748</td>\n",
       "      <td>77.0</td>\n",
       "      <td>95.0</td>\n",
       "      <td>85.771429</td>\n",
       "      <td>30.0</td>\n",
       "      <td>90.0</td>\n",
       "      <td>62.657143</td>\n",
       "      <td>52.0</td>\n",
       "      <td>129.0</td>\n",
       "      <td>...</td>\n",
       "      <td>NaN</td>\n",
       "      <td>339.0</td>\n",
       "      <td>2.0</td>\n",
       "      <td>0.0</td>\n",
       "      <td>0.0</td>\n",
       "      <td>4.0</td>\n",
       "      <td>1.0</td>\n",
       "      <td>3.0</td>\n",
       "      <td>10</td>\n",
       "      <td>False</td>\n",
       "    </tr>\n",
       "    <tr>\n",
       "      <th>...</th>\n",
       "      <td>...</td>\n",
       "      <td>...</td>\n",
       "      <td>...</td>\n",
       "      <td>...</td>\n",
       "      <td>...</td>\n",
       "      <td>...</td>\n",
       "      <td>...</td>\n",
       "      <td>...</td>\n",
       "      <td>...</td>\n",
       "      <td>...</td>\n",
       "      <td>...</td>\n",
       "      <td>...</td>\n",
       "      <td>...</td>\n",
       "      <td>...</td>\n",
       "      <td>...</td>\n",
       "      <td>...</td>\n",
       "      <td>...</td>\n",
       "      <td>...</td>\n",
       "      <td>...</td>\n",
       "      <td>...</td>\n",
       "      <td>...</td>\n",
       "    </tr>\n",
       "    <tr>\n",
       "      <th>36484</th>\n",
       "      <td>F</td>\n",
       "      <td>84.952721</td>\n",
       "      <td>59.0</td>\n",
       "      <td>80.0</td>\n",
       "      <td>68.538462</td>\n",
       "      <td>2.0</td>\n",
       "      <td>95.0</td>\n",
       "      <td>74.346154</td>\n",
       "      <td>109.0</td>\n",
       "      <td>152.0</td>\n",
       "      <td>...</td>\n",
       "      <td>NaN</td>\n",
       "      <td>697.0</td>\n",
       "      <td>NaN</td>\n",
       "      <td>0.0</td>\n",
       "      <td>0.0</td>\n",
       "      <td>1.0</td>\n",
       "      <td>4.0</td>\n",
       "      <td>1.0</td>\n",
       "      <td>10</td>\n",
       "      <td>False</td>\n",
       "    </tr>\n",
       "    <tr>\n",
       "      <th>36485</th>\n",
       "      <td>F</td>\n",
       "      <td>30.583263</td>\n",
       "      <td>59.0</td>\n",
       "      <td>104.0</td>\n",
       "      <td>79.954545</td>\n",
       "      <td>67.0</td>\n",
       "      <td>91.0</td>\n",
       "      <td>77.820000</td>\n",
       "      <td>94.0</td>\n",
       "      <td>140.0</td>\n",
       "      <td>...</td>\n",
       "      <td>NaN</td>\n",
       "      <td>2000.0</td>\n",
       "      <td>NaN</td>\n",
       "      <td>0.0</td>\n",
       "      <td>NaN</td>\n",
       "      <td>1.0</td>\n",
       "      <td>1.0</td>\n",
       "      <td>0.0</td>\n",
       "      <td>0</td>\n",
       "      <td>False</td>\n",
       "    </tr>\n",
       "    <tr>\n",
       "      <th>36486</th>\n",
       "      <td>F</td>\n",
       "      <td>60.095765</td>\n",
       "      <td>71.0</td>\n",
       "      <td>94.0</td>\n",
       "      <td>82.625000</td>\n",
       "      <td>51.0</td>\n",
       "      <td>92.0</td>\n",
       "      <td>61.772727</td>\n",
       "      <td>90.0</td>\n",
       "      <td>120.0</td>\n",
       "      <td>...</td>\n",
       "      <td>NaN</td>\n",
       "      <td>3500.0</td>\n",
       "      <td>NaN</td>\n",
       "      <td>0.0</td>\n",
       "      <td>NaN</td>\n",
       "      <td>1.0</td>\n",
       "      <td>0.0</td>\n",
       "      <td>0.0</td>\n",
       "      <td>3</td>\n",
       "      <td>False</td>\n",
       "    </tr>\n",
       "    <tr>\n",
       "      <th>36487</th>\n",
       "      <td>M</td>\n",
       "      <td>78.847051</td>\n",
       "      <td>63.0</td>\n",
       "      <td>86.0</td>\n",
       "      <td>72.836735</td>\n",
       "      <td>113.0</td>\n",
       "      <td>121.0</td>\n",
       "      <td>117.000000</td>\n",
       "      <td>148.0</td>\n",
       "      <td>219.0</td>\n",
       "      <td>...</td>\n",
       "      <td>NaN</td>\n",
       "      <td>1900.0</td>\n",
       "      <td>NaN</td>\n",
       "      <td>0.0</td>\n",
       "      <td>NaN</td>\n",
       "      <td>0.0</td>\n",
       "      <td>1.0</td>\n",
       "      <td>0.0</td>\n",
       "      <td>5</td>\n",
       "      <td>False</td>\n",
       "    </tr>\n",
       "    <tr>\n",
       "      <th>36488</th>\n",
       "      <td>M</td>\n",
       "      <td>32.783457</td>\n",
       "      <td>86.0</td>\n",
       "      <td>103.0</td>\n",
       "      <td>94.000000</td>\n",
       "      <td>83.0</td>\n",
       "      <td>118.0</td>\n",
       "      <td>99.916667</td>\n",
       "      <td>97.0</td>\n",
       "      <td>176.0</td>\n",
       "      <td>...</td>\n",
       "      <td>NaN</td>\n",
       "      <td>NaN</td>\n",
       "      <td>NaN</td>\n",
       "      <td>0.0</td>\n",
       "      <td>0.0</td>\n",
       "      <td>0.0</td>\n",
       "      <td>1.0</td>\n",
       "      <td>4.0</td>\n",
       "      <td>5</td>\n",
       "      <td>False</td>\n",
       "    </tr>\n",
       "  </tbody>\n",
       "</table>\n",
       "<p>36489 rows × 60 columns</p>\n",
       "</div>"
      ],
      "text/plain": [
       "      gender        age  heart_rate_min  heart_rate_max  heart_rate_mean  \\\n",
       "0          M  54.550390            93.0           115.0       103.500000   \n",
       "1          M  86.324653            50.0            61.0        54.333333   \n",
       "2          M  40.270146            70.0           105.0        83.434783   \n",
       "3          M  73.383547            68.0            98.0        83.880000   \n",
       "4          M  70.724748            77.0            95.0        85.771429   \n",
       "...      ...        ...             ...             ...              ...   \n",
       "36484      F  84.952721            59.0            80.0        68.538462   \n",
       "36485      F  30.583263            59.0           104.0        79.954545   \n",
       "36486      F  60.095765            71.0            94.0        82.625000   \n",
       "36487      M  78.847051            63.0            86.0        72.836735   \n",
       "36488      M  32.783457            86.0           103.0        94.000000   \n",
       "\n",
       "       mbp_min  mbp_max    mbp_mean  sbp_min  sbp_max  ...  \\\n",
       "0         57.0    100.0   82.733333     87.0    163.0  ...   \n",
       "1         61.0     93.0   71.695652     95.0    141.0  ...   \n",
       "2         66.0     92.0   76.695652     94.0    129.0  ...   \n",
       "3         74.0    101.0   84.694444     83.0    148.0  ...   \n",
       "4         30.0     90.0   62.657143     52.0    129.0  ...   \n",
       "...        ...      ...         ...      ...      ...  ...   \n",
       "36484      2.0     95.0   74.346154    109.0    152.0  ...   \n",
       "36485     67.0     91.0   77.820000     94.0    140.0  ...   \n",
       "36486     51.0     92.0   61.772727     90.0    120.0  ...   \n",
       "36487    113.0    121.0  117.000000    148.0    219.0  ...   \n",
       "36488     83.0    118.0   99.916667     97.0    176.0  ...   \n",
       "\n",
       "       bilirubin_indirect_min  urineoutput  sofa_respiration  \\\n",
       "0                         NaN       3459.0               2.0   \n",
       "1                         NaN       2020.0               NaN   \n",
       "2                         NaN       3050.0               NaN   \n",
       "3                         NaN       1592.0               NaN   \n",
       "4                         NaN        339.0               2.0   \n",
       "...                       ...          ...               ...   \n",
       "36484                     NaN        697.0               NaN   \n",
       "36485                     NaN       2000.0               NaN   \n",
       "36486                     NaN       3500.0               NaN   \n",
       "36487                     NaN       1900.0               NaN   \n",
       "36488                     NaN          NaN               NaN   \n",
       "\n",
       "       sofa_coagulation  sofa_liver  sofa_cardiovascular  sofa_cns  \\\n",
       "0                   0.0         NaN                  1.0       0.0   \n",
       "1                   1.0         NaN                  1.0       1.0   \n",
       "2                   1.0         0.0                  1.0       1.0   \n",
       "3                   0.0         NaN                  0.0       0.0   \n",
       "4                   0.0         0.0                  4.0       1.0   \n",
       "...                 ...         ...                  ...       ...   \n",
       "36484               0.0         0.0                  1.0       4.0   \n",
       "36485               0.0         NaN                  1.0       1.0   \n",
       "36486               0.0         NaN                  1.0       0.0   \n",
       "36487               0.0         NaN                  0.0       1.0   \n",
       "36488               0.0         0.0                  0.0       1.0   \n",
       "\n",
       "       sofa_renal  charlson_comorbidity_index  outcome  \n",
       "0             1.0                           3    False  \n",
       "1             1.0                           8    False  \n",
       "2             0.0                           4    False  \n",
       "3             1.0                           6    False  \n",
       "4             3.0                          10    False  \n",
       "...           ...                         ...      ...  \n",
       "36484         1.0                          10    False  \n",
       "36485         0.0                           0    False  \n",
       "36486         0.0                           3    False  \n",
       "36487         0.0                           5    False  \n",
       "36488         4.0                           5    False  \n",
       "\n",
       "[36489 rows x 60 columns]"
      ]
     },
     "execution_count": 11,
     "metadata": {},
     "output_type": "execute_result"
    }
   ],
   "source": [
    "df=pd.read_csv(r'C:\\Users\\Axleng\\Desktop\\SPH6004\\Assignment_1_data.csv')\n",
    "df"
   ]
  },
  {
   "cell_type": "code",
   "execution_count": 12,
   "id": "dca9cc4c",
   "metadata": {},
   "outputs": [
    {
     "data": {
      "text/html": [
       "<div>\n",
       "<style scoped>\n",
       "    .dataframe tbody tr th:only-of-type {\n",
       "        vertical-align: middle;\n",
       "    }\n",
       "\n",
       "    .dataframe tbody tr th {\n",
       "        vertical-align: top;\n",
       "    }\n",
       "\n",
       "    .dataframe thead th {\n",
       "        text-align: right;\n",
       "    }\n",
       "</style>\n",
       "<table border=\"1\" class=\"dataframe\">\n",
       "  <thead>\n",
       "    <tr style=\"text-align: right;\">\n",
       "      <th></th>\n",
       "      <th>age</th>\n",
       "      <th>heart_rate_min</th>\n",
       "      <th>heart_rate_max</th>\n",
       "      <th>heart_rate_mean</th>\n",
       "      <th>mbp_min</th>\n",
       "      <th>mbp_max</th>\n",
       "      <th>mbp_mean</th>\n",
       "      <th>sbp_min</th>\n",
       "      <th>sbp_max</th>\n",
       "      <th>sbp_mean</th>\n",
       "      <th>...</th>\n",
       "      <th>bilirubin_indirect_max</th>\n",
       "      <th>bilirubin_indirect_min</th>\n",
       "      <th>urineoutput</th>\n",
       "      <th>sofa_respiration</th>\n",
       "      <th>sofa_coagulation</th>\n",
       "      <th>sofa_liver</th>\n",
       "      <th>sofa_cardiovascular</th>\n",
       "      <th>sofa_cns</th>\n",
       "      <th>sofa_renal</th>\n",
       "      <th>charlson_comorbidity_index</th>\n",
       "    </tr>\n",
       "  </thead>\n",
       "  <tbody>\n",
       "    <tr>\n",
       "      <th>count</th>\n",
       "      <td>36489.000000</td>\n",
       "      <td>36417.000000</td>\n",
       "      <td>36417.000000</td>\n",
       "      <td>36417.000000</td>\n",
       "      <td>36401.000000</td>\n",
       "      <td>36401.000000</td>\n",
       "      <td>36401.000000</td>\n",
       "      <td>36343.000000</td>\n",
       "      <td>36343.000000</td>\n",
       "      <td>36343.000000</td>\n",
       "      <td>...</td>\n",
       "      <td>1544.000000</td>\n",
       "      <td>1544.000000</td>\n",
       "      <td>35073.000000</td>\n",
       "      <td>7587.000000</td>\n",
       "      <td>36235.000000</td>\n",
       "      <td>18590.000000</td>\n",
       "      <td>36402.000000</td>\n",
       "      <td>36468.000000</td>\n",
       "      <td>36467.000000</td>\n",
       "      <td>36489.000000</td>\n",
       "    </tr>\n",
       "    <tr>\n",
       "      <th>mean</th>\n",
       "      <td>65.907162</td>\n",
       "      <td>70.935003</td>\n",
       "      <td>103.109572</td>\n",
       "      <td>84.855578</td>\n",
       "      <td>60.429777</td>\n",
       "      <td>105.484634</td>\n",
       "      <td>79.255689</td>\n",
       "      <td>94.449898</td>\n",
       "      <td>147.691412</td>\n",
       "      <td>119.757827</td>\n",
       "      <td>...</td>\n",
       "      <td>1.855894</td>\n",
       "      <td>1.742163</td>\n",
       "      <td>1914.991284</td>\n",
       "      <td>1.723738</td>\n",
       "      <td>0.481109</td>\n",
       "      <td>0.514094</td>\n",
       "      <td>1.060381</td>\n",
       "      <td>0.915433</td>\n",
       "      <td>0.826501</td>\n",
       "      <td>5.798104</td>\n",
       "    </tr>\n",
       "    <tr>\n",
       "      <th>std</th>\n",
       "      <td>16.797498</td>\n",
       "      <td>15.064109</td>\n",
       "      <td>20.682937</td>\n",
       "      <td>15.977454</td>\n",
       "      <td>13.347348</td>\n",
       "      <td>23.346984</td>\n",
       "      <td>11.758700</td>\n",
       "      <td>16.705217</td>\n",
       "      <td>22.855348</td>\n",
       "      <td>17.220898</td>\n",
       "      <td>...</td>\n",
       "      <td>2.293747</td>\n",
       "      <td>2.219434</td>\n",
       "      <td>1266.887914</td>\n",
       "      <td>0.588464</td>\n",
       "      <td>0.825034</td>\n",
       "      <td>0.963752</td>\n",
       "      <td>0.972511</td>\n",
       "      <td>1.050761</td>\n",
       "      <td>1.201510</td>\n",
       "      <td>3.014789</td>\n",
       "    </tr>\n",
       "    <tr>\n",
       "      <th>min</th>\n",
       "      <td>18.002527</td>\n",
       "      <td>9.000000</td>\n",
       "      <td>36.000000</td>\n",
       "      <td>28.500000</td>\n",
       "      <td>0.830000</td>\n",
       "      <td>51.000000</td>\n",
       "      <td>42.513889</td>\n",
       "      <td>2.000000</td>\n",
       "      <td>49.000000</td>\n",
       "      <td>40.000000</td>\n",
       "      <td>...</td>\n",
       "      <td>0.100000</td>\n",
       "      <td>0.100000</td>\n",
       "      <td>-14850.000000</td>\n",
       "      <td>0.000000</td>\n",
       "      <td>0.000000</td>\n",
       "      <td>0.000000</td>\n",
       "      <td>0.000000</td>\n",
       "      <td>0.000000</td>\n",
       "      <td>0.000000</td>\n",
       "      <td>0.000000</td>\n",
       "    </tr>\n",
       "    <tr>\n",
       "      <th>25%</th>\n",
       "      <td>55.549252</td>\n",
       "      <td>60.000000</td>\n",
       "      <td>88.000000</td>\n",
       "      <td>73.321429</td>\n",
       "      <td>53.000000</td>\n",
       "      <td>91.000000</td>\n",
       "      <td>70.896552</td>\n",
       "      <td>83.500000</td>\n",
       "      <td>132.000000</td>\n",
       "      <td>107.096464</td>\n",
       "      <td>...</td>\n",
       "      <td>0.500000</td>\n",
       "      <td>0.500000</td>\n",
       "      <td>1050.000000</td>\n",
       "      <td>2.000000</td>\n",
       "      <td>0.000000</td>\n",
       "      <td>0.000000</td>\n",
       "      <td>1.000000</td>\n",
       "      <td>0.000000</td>\n",
       "      <td>0.000000</td>\n",
       "      <td>4.000000</td>\n",
       "    </tr>\n",
       "    <tr>\n",
       "      <th>50%</th>\n",
       "      <td>67.439033</td>\n",
       "      <td>70.000000</td>\n",
       "      <td>101.000000</td>\n",
       "      <td>83.500000</td>\n",
       "      <td>60.000000</td>\n",
       "      <td>102.000000</td>\n",
       "      <td>77.851852</td>\n",
       "      <td>93.000000</td>\n",
       "      <td>146.000000</td>\n",
       "      <td>117.678571</td>\n",
       "      <td>...</td>\n",
       "      <td>1.000000</td>\n",
       "      <td>1.000000</td>\n",
       "      <td>1667.000000</td>\n",
       "      <td>2.000000</td>\n",
       "      <td>0.000000</td>\n",
       "      <td>0.000000</td>\n",
       "      <td>1.000000</td>\n",
       "      <td>1.000000</td>\n",
       "      <td>0.000000</td>\n",
       "      <td>6.000000</td>\n",
       "    </tr>\n",
       "    <tr>\n",
       "      <th>75%</th>\n",
       "      <td>78.729524</td>\n",
       "      <td>80.000000</td>\n",
       "      <td>115.000000</td>\n",
       "      <td>95.250000</td>\n",
       "      <td>68.000000</td>\n",
       "      <td>115.000000</td>\n",
       "      <td>86.382353</td>\n",
       "      <td>104.000000</td>\n",
       "      <td>161.000000</td>\n",
       "      <td>130.649616</td>\n",
       "      <td>...</td>\n",
       "      <td>2.200000</td>\n",
       "      <td>2.000000</td>\n",
       "      <td>2500.000000</td>\n",
       "      <td>2.000000</td>\n",
       "      <td>1.000000</td>\n",
       "      <td>1.000000</td>\n",
       "      <td>1.000000</td>\n",
       "      <td>1.000000</td>\n",
       "      <td>1.000000</td>\n",
       "      <td>8.000000</td>\n",
       "    </tr>\n",
       "    <tr>\n",
       "      <th>max</th>\n",
       "      <td>102.865603</td>\n",
       "      <td>163.000000</td>\n",
       "      <td>295.000000</td>\n",
       "      <td>174.740741</td>\n",
       "      <td>133.000000</td>\n",
       "      <td>299.000000</td>\n",
       "      <td>151.529412</td>\n",
       "      <td>184.000000</td>\n",
       "      <td>352.000000</td>\n",
       "      <td>206.388889</td>\n",
       "      <td>...</td>\n",
       "      <td>21.200000</td>\n",
       "      <td>21.200000</td>\n",
       "      <td>31016.000000</td>\n",
       "      <td>2.000000</td>\n",
       "      <td>4.000000</td>\n",
       "      <td>4.000000</td>\n",
       "      <td>4.000000</td>\n",
       "      <td>4.000000</td>\n",
       "      <td>4.000000</td>\n",
       "      <td>20.000000</td>\n",
       "    </tr>\n",
       "  </tbody>\n",
       "</table>\n",
       "<p>8 rows × 58 columns</p>\n",
       "</div>"
      ],
      "text/plain": [
       "                age  heart_rate_min  heart_rate_max  heart_rate_mean  \\\n",
       "count  36489.000000    36417.000000    36417.000000     36417.000000   \n",
       "mean      65.907162       70.935003      103.109572        84.855578   \n",
       "std       16.797498       15.064109       20.682937        15.977454   \n",
       "min       18.002527        9.000000       36.000000        28.500000   \n",
       "25%       55.549252       60.000000       88.000000        73.321429   \n",
       "50%       67.439033       70.000000      101.000000        83.500000   \n",
       "75%       78.729524       80.000000      115.000000        95.250000   \n",
       "max      102.865603      163.000000      295.000000       174.740741   \n",
       "\n",
       "            mbp_min       mbp_max      mbp_mean       sbp_min       sbp_max  \\\n",
       "count  36401.000000  36401.000000  36401.000000  36343.000000  36343.000000   \n",
       "mean      60.429777    105.484634     79.255689     94.449898    147.691412   \n",
       "std       13.347348     23.346984     11.758700     16.705217     22.855348   \n",
       "min        0.830000     51.000000     42.513889      2.000000     49.000000   \n",
       "25%       53.000000     91.000000     70.896552     83.500000    132.000000   \n",
       "50%       60.000000    102.000000     77.851852     93.000000    146.000000   \n",
       "75%       68.000000    115.000000     86.382353    104.000000    161.000000   \n",
       "max      133.000000    299.000000    151.529412    184.000000    352.000000   \n",
       "\n",
       "           sbp_mean  ...  bilirubin_indirect_max  bilirubin_indirect_min  \\\n",
       "count  36343.000000  ...             1544.000000             1544.000000   \n",
       "mean     119.757827  ...                1.855894                1.742163   \n",
       "std       17.220898  ...                2.293747                2.219434   \n",
       "min       40.000000  ...                0.100000                0.100000   \n",
       "25%      107.096464  ...                0.500000                0.500000   \n",
       "50%      117.678571  ...                1.000000                1.000000   \n",
       "75%      130.649616  ...                2.200000                2.000000   \n",
       "max      206.388889  ...               21.200000               21.200000   \n",
       "\n",
       "        urineoutput  sofa_respiration  sofa_coagulation    sofa_liver  \\\n",
       "count  35073.000000       7587.000000      36235.000000  18590.000000   \n",
       "mean    1914.991284          1.723738          0.481109      0.514094   \n",
       "std     1266.887914          0.588464          0.825034      0.963752   \n",
       "min   -14850.000000          0.000000          0.000000      0.000000   \n",
       "25%     1050.000000          2.000000          0.000000      0.000000   \n",
       "50%     1667.000000          2.000000          0.000000      0.000000   \n",
       "75%     2500.000000          2.000000          1.000000      1.000000   \n",
       "max    31016.000000          2.000000          4.000000      4.000000   \n",
       "\n",
       "       sofa_cardiovascular      sofa_cns    sofa_renal  \\\n",
       "count         36402.000000  36468.000000  36467.000000   \n",
       "mean              1.060381      0.915433      0.826501   \n",
       "std               0.972511      1.050761      1.201510   \n",
       "min               0.000000      0.000000      0.000000   \n",
       "25%               1.000000      0.000000      0.000000   \n",
       "50%               1.000000      1.000000      0.000000   \n",
       "75%               1.000000      1.000000      1.000000   \n",
       "max               4.000000      4.000000      4.000000   \n",
       "\n",
       "       charlson_comorbidity_index  \n",
       "count                36489.000000  \n",
       "mean                     5.798104  \n",
       "std                      3.014789  \n",
       "min                      0.000000  \n",
       "25%                      4.000000  \n",
       "50%                      6.000000  \n",
       "75%                      8.000000  \n",
       "max                     20.000000  \n",
       "\n",
       "[8 rows x 58 columns]"
      ]
     },
     "execution_count": 12,
     "metadata": {},
     "output_type": "execute_result"
    }
   ],
   "source": [
    "df.describe()"
   ]
  },
  {
   "cell_type": "code",
   "execution_count": 13,
   "id": "9b58ff03",
   "metadata": {},
   "outputs": [
    {
     "name": "stdout",
     "output_type": "stream",
     "text": [
      "<class 'pandas.core.frame.DataFrame'>\n",
      "RangeIndex: 36489 entries, 0 to 36488\n",
      "Data columns (total 60 columns):\n",
      " #   Column                      Non-Null Count  Dtype  \n",
      "---  ------                      --------------  -----  \n",
      " 0   gender                      36489 non-null  object \n",
      " 1   age                         36489 non-null  float64\n",
      " 2   heart_rate_min              36417 non-null  float64\n",
      " 3   heart_rate_max              36417 non-null  float64\n",
      " 4   heart_rate_mean             36417 non-null  float64\n",
      " 5   mbp_min                     36401 non-null  float64\n",
      " 6   mbp_max                     36401 non-null  float64\n",
      " 7   mbp_mean                    36401 non-null  float64\n",
      " 8   sbp_min                     36343 non-null  float64\n",
      " 9   sbp_max                     36343 non-null  float64\n",
      " 10  sbp_mean                    36343 non-null  float64\n",
      " 11  dbp_min                     36341 non-null  float64\n",
      " 12  dbp_max                     36341 non-null  float64\n",
      " 13  dbp_mean                    36341 non-null  float64\n",
      " 14  temperature_min             36126 non-null  float64\n",
      " 15  temperature_max             36126 non-null  float64\n",
      " 16  temperature_mean            36126 non-null  float64\n",
      " 17  lactate_min                 15930 non-null  float64\n",
      " 18  lactate_max                 15930 non-null  float64\n",
      " 19  ph_min                      18860 non-null  float64\n",
      " 20  ph_max                      18860 non-null  float64\n",
      " 21  chloride_min                6129 non-null   float64\n",
      " 22  chloride_max                6129 non-null   float64\n",
      " 23  calcium_min                 9289 non-null   float64\n",
      " 24  calcium_max                 9289 non-null   float64\n",
      " 25  sodium_min                  6554 non-null   float64\n",
      " 26  sodium_max                  6554 non-null   float64\n",
      " 27  glucose_min                 36191 non-null  float64\n",
      " 28  glucose_max                 36191 non-null  float64\n",
      " 29  wbc_min                     36235 non-null  float64\n",
      " 30  wbc_max                     36235 non-null  float64\n",
      " 31  creatinine_min              36291 non-null  float64\n",
      " 32  creatinine_max              36291 non-null  float64\n",
      " 33  hemoglobin_min              36232 non-null  float64\n",
      " 34  hemoglobin_max              36232 non-null  float64\n",
      " 35  total_protein_max           974 non-null    float64\n",
      " 36  total_protein_min           974 non-null    float64\n",
      " 37  pt_min                      32345 non-null  float64\n",
      " 38  pt_max                      32345 non-null  float64\n",
      " 39  alt_max                     18663 non-null  float64\n",
      " 40  alt_min                     18663 non-null  float64\n",
      " 41  alp_max                     18580 non-null  float64\n",
      " 42  alp_min                     18580 non-null  float64\n",
      " 43  ast_min                     18776 non-null  float64\n",
      " 44  ast_max                     18776 non-null  float64\n",
      " 45  bilirubin_total_max         18590 non-null  float64\n",
      " 46  bilirubin_total_min         18590 non-null  float64\n",
      " 47  bilirubin_direct_max        1605 non-null   float64\n",
      " 48  bilirubin_direct_min        1605 non-null   float64\n",
      " 49  bilirubin_indirect_max      1544 non-null   float64\n",
      " 50  bilirubin_indirect_min      1544 non-null   float64\n",
      " 51  urineoutput                 35073 non-null  float64\n",
      " 52  sofa_respiration            7587 non-null   float64\n",
      " 53  sofa_coagulation            36235 non-null  float64\n",
      " 54  sofa_liver                  18590 non-null  float64\n",
      " 55  sofa_cardiovascular         36402 non-null  float64\n",
      " 56  sofa_cns                    36468 non-null  float64\n",
      " 57  sofa_renal                  36467 non-null  float64\n",
      " 58  charlson_comorbidity_index  36489 non-null  int64  \n",
      " 59  outcome                     36489 non-null  bool   \n",
      "dtypes: bool(1), float64(57), int64(1), object(1)\n",
      "memory usage: 16.5+ MB\n"
     ]
    }
   ],
   "source": [
    "df.info()"
   ]
  },
  {
   "cell_type": "code",
   "execution_count": 14,
   "id": "a411f088-a273-48f5-93f5-d58cde714123",
   "metadata": {},
   "outputs": [
    {
     "data": {
      "text/plain": [
       "0        54\n",
       "1        86\n",
       "2        40\n",
       "3        73\n",
       "4        70\n",
       "         ..\n",
       "36484    84\n",
       "36485    30\n",
       "36486    60\n",
       "36487    78\n",
       "36488    32\n",
       "Name: age, Length: 36489, dtype: int64"
      ]
     },
     "execution_count": 14,
     "metadata": {},
     "output_type": "execute_result"
    }
   ],
   "source": [
    "df['gender'].replace('M',1,inplace=True)\n",
    "df['gender'].replace('F',0,inplace=True)\n",
    "df['outcome'].astype(int)\n",
    "df['age'].apply(int)"
   ]
  },
  {
   "cell_type": "code",
   "execution_count": 15,
   "id": "2d77895d",
   "metadata": {},
   "outputs": [
    {
     "name": "stdout",
     "output_type": "stream",
     "text": [
      "<class 'pandas.core.frame.DataFrame'>\n",
      "RangeIndex: 36489 entries, 0 to 36488\n",
      "Data columns (total 60 columns):\n",
      " #   Column                      Non-Null Count  Dtype  \n",
      "---  ------                      --------------  -----  \n",
      " 0   gender                      36489 non-null  int64  \n",
      " 1   age                         36489 non-null  float64\n",
      " 2   heart_rate_min              36417 non-null  float64\n",
      " 3   heart_rate_max              36417 non-null  float64\n",
      " 4   heart_rate_mean             36417 non-null  float64\n",
      " 5   mbp_min                     36401 non-null  float64\n",
      " 6   mbp_max                     36401 non-null  float64\n",
      " 7   mbp_mean                    36401 non-null  float64\n",
      " 8   sbp_min                     36343 non-null  float64\n",
      " 9   sbp_max                     36343 non-null  float64\n",
      " 10  sbp_mean                    36343 non-null  float64\n",
      " 11  dbp_min                     36341 non-null  float64\n",
      " 12  dbp_max                     36341 non-null  float64\n",
      " 13  dbp_mean                    36341 non-null  float64\n",
      " 14  temperature_min             36126 non-null  float64\n",
      " 15  temperature_max             36126 non-null  float64\n",
      " 16  temperature_mean            36126 non-null  float64\n",
      " 17  lactate_min                 15930 non-null  float64\n",
      " 18  lactate_max                 15930 non-null  float64\n",
      " 19  ph_min                      18860 non-null  float64\n",
      " 20  ph_max                      18860 non-null  float64\n",
      " 21  chloride_min                6129 non-null   float64\n",
      " 22  chloride_max                6129 non-null   float64\n",
      " 23  calcium_min                 9289 non-null   float64\n",
      " 24  calcium_max                 9289 non-null   float64\n",
      " 25  sodium_min                  6554 non-null   float64\n",
      " 26  sodium_max                  6554 non-null   float64\n",
      " 27  glucose_min                 36191 non-null  float64\n",
      " 28  glucose_max                 36191 non-null  float64\n",
      " 29  wbc_min                     36235 non-null  float64\n",
      " 30  wbc_max                     36235 non-null  float64\n",
      " 31  creatinine_min              36291 non-null  float64\n",
      " 32  creatinine_max              36291 non-null  float64\n",
      " 33  hemoglobin_min              36232 non-null  float64\n",
      " 34  hemoglobin_max              36232 non-null  float64\n",
      " 35  total_protein_max           974 non-null    float64\n",
      " 36  total_protein_min           974 non-null    float64\n",
      " 37  pt_min                      32345 non-null  float64\n",
      " 38  pt_max                      32345 non-null  float64\n",
      " 39  alt_max                     18663 non-null  float64\n",
      " 40  alt_min                     18663 non-null  float64\n",
      " 41  alp_max                     18580 non-null  float64\n",
      " 42  alp_min                     18580 non-null  float64\n",
      " 43  ast_min                     18776 non-null  float64\n",
      " 44  ast_max                     18776 non-null  float64\n",
      " 45  bilirubin_total_max         18590 non-null  float64\n",
      " 46  bilirubin_total_min         18590 non-null  float64\n",
      " 47  bilirubin_direct_max        1605 non-null   float64\n",
      " 48  bilirubin_direct_min        1605 non-null   float64\n",
      " 49  bilirubin_indirect_max      1544 non-null   float64\n",
      " 50  bilirubin_indirect_min      1544 non-null   float64\n",
      " 51  urineoutput                 35073 non-null  float64\n",
      " 52  sofa_respiration            7587 non-null   float64\n",
      " 53  sofa_coagulation            36235 non-null  float64\n",
      " 54  sofa_liver                  18590 non-null  float64\n",
      " 55  sofa_cardiovascular         36402 non-null  float64\n",
      " 56  sofa_cns                    36468 non-null  float64\n",
      " 57  sofa_renal                  36467 non-null  float64\n",
      " 58  charlson_comorbidity_index  36489 non-null  int64  \n",
      " 59  outcome                     36489 non-null  bool   \n",
      "dtypes: bool(1), float64(57), int64(2)\n",
      "memory usage: 16.5 MB\n"
     ]
    }
   ],
   "source": [
    "df.info()"
   ]
  },
  {
   "cell_type": "code",
   "execution_count": 16,
   "id": "21b59572",
   "metadata": {},
   "outputs": [
    {
     "data": {
      "text/plain": [
       "36489"
      ]
     },
     "execution_count": 16,
     "metadata": {},
     "output_type": "execute_result"
    }
   ],
   "source": [
    "df['gender'].count()"
   ]
  },
  {
   "cell_type": "code",
   "execution_count": 17,
   "id": "158385d1",
   "metadata": {},
   "outputs": [
    {
     "data": {
      "text/plain": [
       "False    35160\n",
       "True      1329\n",
       "Name: outcome, dtype: int64"
      ]
     },
     "execution_count": 17,
     "metadata": {},
     "output_type": "execute_result"
    }
   ],
   "source": [
    "df['outcome'].value_counts()"
   ]
  },
  {
   "cell_type": "code",
   "execution_count": 18,
   "id": "4d6b60b6",
   "metadata": {},
   "outputs": [
    {
     "name": "stdout",
     "output_type": "stream",
     "text": [
      "<class 'pandas.core.frame.DataFrame'>\n",
      "RangeIndex: 36489 entries, 0 to 36488\n",
      "Data columns (total 34 columns):\n",
      " #   Column                      Non-Null Count  Dtype  \n",
      "---  ------                      --------------  -----  \n",
      " 0   gender                      36489 non-null  int64  \n",
      " 1   age                         36489 non-null  float64\n",
      " 2   heart_rate_min              36417 non-null  float64\n",
      " 3   heart_rate_max              36417 non-null  float64\n",
      " 4   heart_rate_mean             36417 non-null  float64\n",
      " 5   mbp_min                     36401 non-null  float64\n",
      " 6   mbp_max                     36401 non-null  float64\n",
      " 7   mbp_mean                    36401 non-null  float64\n",
      " 8   sbp_min                     36343 non-null  float64\n",
      " 9   sbp_max                     36343 non-null  float64\n",
      " 10  sbp_mean                    36343 non-null  float64\n",
      " 11  dbp_min                     36341 non-null  float64\n",
      " 12  dbp_max                     36341 non-null  float64\n",
      " 13  dbp_mean                    36341 non-null  float64\n",
      " 14  temperature_min             36126 non-null  float64\n",
      " 15  temperature_max             36126 non-null  float64\n",
      " 16  temperature_mean            36126 non-null  float64\n",
      " 17  glucose_min                 36191 non-null  float64\n",
      " 18  glucose_max                 36191 non-null  float64\n",
      " 19  wbc_min                     36235 non-null  float64\n",
      " 20  wbc_max                     36235 non-null  float64\n",
      " 21  creatinine_min              36291 non-null  float64\n",
      " 22  creatinine_max              36291 non-null  float64\n",
      " 23  hemoglobin_min              36232 non-null  float64\n",
      " 24  hemoglobin_max              36232 non-null  float64\n",
      " 25  pt_min                      32345 non-null  float64\n",
      " 26  pt_max                      32345 non-null  float64\n",
      " 27  urineoutput                 35073 non-null  float64\n",
      " 28  sofa_coagulation            36235 non-null  float64\n",
      " 29  sofa_cardiovascular         36402 non-null  float64\n",
      " 30  sofa_cns                    36468 non-null  float64\n",
      " 31  sofa_renal                  36467 non-null  float64\n",
      " 32  charlson_comorbidity_index  36489 non-null  int64  \n",
      " 33  outcome                     36489 non-null  bool   \n",
      "dtypes: bool(1), float64(31), int64(2)\n",
      "memory usage: 9.2 MB\n"
     ]
    }
   ],
   "source": [
    "df.dropna(axis=1,thresh=20000,inplace=True)\n",
    "df.info()"
   ]
  },
  {
   "cell_type": "code",
   "execution_count": 19,
   "id": "960268a5",
   "metadata": {},
   "outputs": [
    {
     "data": {
      "text/plain": [
       "0        0\n",
       "1        0\n",
       "2        0\n",
       "3        0\n",
       "4        0\n",
       "        ..\n",
       "36484    0\n",
       "36485    0\n",
       "36486    0\n",
       "36487    0\n",
       "36488    0\n",
       "Name: outcome, Length: 36489, dtype: int32"
      ]
     },
     "execution_count": 19,
     "metadata": {},
     "output_type": "execute_result"
    }
   ],
   "source": [
    "df_label=df['outcome'].astype(int)\n",
    "df_features=df.drop([\"outcome\"],axis=1)\n",
    "df_label"
   ]
  },
  {
   "cell_type": "code",
   "execution_count": 20,
   "id": "7f081580",
   "metadata": {},
   "outputs": [
    {
     "data": {
      "text/plain": [
       "(36489, 33)"
      ]
     },
     "execution_count": 20,
     "metadata": {},
     "output_type": "execute_result"
    }
   ],
   "source": [
    "imputer=KNNImputer(n_neighbors=2)\n",
    "df_filled=imputer.fit_transform(df_features)\n",
    "df_filled.shape"
   ]
  },
  {
   "cell_type": "code",
   "execution_count": 21,
   "id": "2b8a37da",
   "metadata": {},
   "outputs": [],
   "source": [
    "sc = StandardScaler()\n",
    "sc.fit(df_filled)\n",
    "df_features= sc.transform(df_filled)"
   ]
  },
  {
   "cell_type": "markdown",
   "id": "d466f761",
   "metadata": {},
   "source": [
    "Oversampling-randomoversampling"
   ]
  },
  {
   "cell_type": "code",
   "execution_count": 22,
   "id": "ad6bcb56",
   "metadata": {},
   "outputs": [
    {
     "data": {
      "text/plain": [
       "<matplotlib.collections.PathCollection at 0x208cec5cbb0>"
      ]
     },
     "execution_count": 22,
     "metadata": {},
     "output_type": "execute_result"
    },
    {
     "data": {
      "image/png": "[encoded data removed]",
      "text/plain": [
       "<Figure size 640x480 with 1 Axes>"
      ]
     },
     "metadata": {},
     "output_type": "display_data"
    }
   ],
   "source": [
    "plt.scatter(df_features[:,0],df_features[:,1],c=df_label)"
   ]
  },
  {
   "cell_type": "code",
   "execution_count": 23,
   "id": "287166fd",
   "metadata": {},
   "outputs": [],
   "source": [
    "from imblearn.over_sampling import RandomOverSampler \n",
    "ros = RandomOverSampler(random_state=10)\n",
    "df_features_resampled,label_resampled= ros.fit_resample(df_features,df_label)"
   ]
  },
  {
   "cell_type": "code",
   "execution_count": 24,
   "id": "12465de8",
   "metadata": {},
   "outputs": [
    {
     "data": {
      "text/plain": [
       "<matplotlib.collections.PathCollection at 0x208cec4a9b0>"
      ]
     },
     "execution_count": 24,
     "metadata": {},
     "output_type": "execute_result"
    },
    {
     "data": {
      "image/png": "[encoded data removed]",
      "text/plain": [
       "<Figure size 640x480 with 1 Axes>"
      ]
     },
     "metadata": {},
     "output_type": "display_data"
    }
   ],
   "source": [
    "plt.scatter(df_features_resampled[:,0],df_features_resampled[:,1],c=label_resampled)"
   ]
  },
  {
   "cell_type": "code",
   "execution_count": 25,
   "id": "b3513762",
   "metadata": {},
   "outputs": [],
   "source": [
    "from imblearn.over_sampling import SMOTE\n",
    "sm = SMOTE(random_state=10)\n",
    "df_features_resampled_sm,label_resampled_sm = sm.fit_resample(df_features,df_label)"
   ]
  },
  {
   "cell_type": "code",
   "execution_count": 26,
   "id": "48d640da",
   "metadata": {},
   "outputs": [
    {
     "data": {
      "text/plain": [
       "<matplotlib.collections.PathCollection at 0x208cee7e830>"
      ]
     },
     "execution_count": 26,
     "metadata": {},
     "output_type": "execute_result"
    },
    {
     "data": {
      "image/png": "[encoded data removed]",
      "text/plain": [
       "<Figure size 640x480 with 1 Axes>"
      ]
     },
     "metadata": {},
     "output_type": "display_data"
    }
   ],
   "source": [
    "plt.scatter(df_features_resampled_sm[:,0],df_features_resampled_sm[:,1],c=label_resampled_sm)"
   ]
  },
  {
   "cell_type": "markdown",
   "id": "e9ae62ab",
   "metadata": {},
   "source": [
    "selection"
   ]
  },
  {
   "cell_type": "code",
   "execution_count": 27,
   "id": "dc8ea26c",
   "metadata": {},
   "outputs": [
    {
     "data": {
      "text/plain": [
       "0.7093761850587789"
      ]
     },
     "execution_count": 27,
     "metadata": {},
     "output_type": "execute_result"
    }
   ],
   "source": [
    "X_resampled_train, X_resampled_test, y_resampled_train, y_resampled_test = train_test_split(df_features_resampled,label_resampled, test_size=0.3, random_state=10)\n",
    "estimator = linear_model.LogisticRegression(C=1,random_state=10)\n",
    "random_estimator=estimator.fit(X_resampled_train,y_resampled_train)\n",
    "random_estimator.score(X_resampled_test, y_resampled_test)"
   ]
  },
  {
   "cell_type": "code",
   "execution_count": 28,
   "id": "51afdef9",
   "metadata": {},
   "outputs": [
    {
     "data": {
      "text/plain": [
       "0.7133579825559347"
      ]
     },
     "execution_count": 28,
     "metadata": {},
     "output_type": "execute_result"
    }
   ],
   "source": [
    "X_resampled_sm_train, X_resampled_sm_test, y_resampled_sm_train, y_resampled_sm_test = train_test_split(df_features_resampled_sm,label_resampled_sm, test_size=0.3, random_state=10)\n",
    "estimator = linear_model.LogisticRegression(C=1.0,random_state=10)\n",
    "sm_estimator=estimator.fit(X_resampled_sm_train,y_resampled_sm_train)\n",
    "sm_estimator.score(X_resampled_sm_test, y_resampled_sm_test)"
   ]
  },
  {
   "cell_type": "code",
   "execution_count": 29,
   "id": "160f60df",
   "metadata": {},
   "outputs": [],
   "source": [
    "df_features_resampled,label_resampled=df_features_resampled_sm,label_resampled_sm \n",
    "X_resampled_train, X_resampled_test, y_resampled_train, y_resampled_test=X_resampled_sm_train, X_resampled_sm_test, y_resampled_sm_train, y_resampled_sm_test"
   ]
  },
  {
   "cell_type": "markdown",
   "id": "2a8e1494",
   "metadata": {},
   "source": [
    "feature selection"
   ]
  },
  {
   "cell_type": "code",
   "execution_count": 30,
   "id": "267d1a96",
   "metadata": {},
   "outputs": [],
   "source": [
    "from sklearn.metrics import confusion_matrix,roc_curve,auc,precision_recall_curve,average_precision_score\n",
    "from sklearn.model_selection import learning_curve"
   ]
  },
  {
   "cell_type": "code",
   "execution_count": 31,
   "id": "90bb0fd6",
   "metadata": {},
   "outputs": [
    {
     "data": {
      "text/plain": [
       "0.7046075085324232"
      ]
     },
     "execution_count": 31,
     "metadata": {},
     "output_type": "execute_result"
    }
   ],
   "source": [
    "model_pca=PCA(n_components=10)\n",
    "df_features_pca=model_pca.fit(df_features_resampled).transform(df_features_resampled)\n",
    "df_features_pca.shape\n",
    "X_pca_train, X_pca_test, y_pca_train, y_pca_test = train_test_split(df_features_pca,label_resampled, random_state=10)\n",
    "pca_estimator=estimator.fit(X_pca_train, y_pca_train)\n",
    "pca_estimator.score(X_pca_test, y_pca_test)"
   ]
  },
  {
   "cell_type": "markdown",
   "id": "abf6d9c3",
   "metadata": {},
   "source": [
    "campare"
   ]
  },
  {
   "cell_type": "code",
   "execution_count": 32,
   "id": "3ce547ce",
   "metadata": {},
   "outputs": [
    {
     "data": {
      "text/plain": [
       "0.7075085324232082"
      ]
     },
     "execution_count": 32,
     "metadata": {},
     "output_type": "execute_result"
    }
   ],
   "source": [
    "from sklearn.feature_selection import SelectKBest\n",
    "X_skb = SelectKBest(k=10).fit_transform(df_features_resampled,label_resampled)\n",
    "X_skb_train, X_skb_test, y_skb_train, y_skb_test = train_test_split(X_skb, label_resampled, random_state=10)\n",
    "skb_estimator=estimator.fit(X_skb_train, y_skb_train)\n",
    "skb_estimator.score(X_skb_test, y_skb_test)"
   ]
  },
  {
   "cell_type": "code",
   "execution_count": 33,
   "id": "b335114e",
   "metadata": {},
   "outputs": [
    {
     "data": {
      "text/plain": [
       "0.7055745164960182"
      ]
     },
     "execution_count": 33,
     "metadata": {},
     "output_type": "execute_result"
    }
   ],
   "source": [
    "from sklearn.feature_selection import RFE\n",
    "X_rfe = RFE(RandomForestClassifier(), n_features_to_select=10).fit_transform(df_features_resampled,label_resampled)\n",
    "X_rfe_train, X_rfe_test, y_rfe_train, y_rfe_test = train_test_split(X_rfe,label_resampled, random_state=10)\n",
    "rfe_estimator=estimator.fit(X_rfe_train, y_rfe_train)\n",
    "rfe_estimator.score(X_rfe_test, y_rfe_test)"
   ]
  },
  {
   "cell_type": "code",
   "execution_count": 34,
   "id": "0de572ed",
   "metadata": {},
   "outputs": [
    {
     "data": {
      "text/plain": [
       "0.7014789533560865"
      ]
     },
     "execution_count": 34,
     "metadata": {},
     "output_type": "execute_result"
    }
   ],
   "source": [
    "from sklearn.feature_selection import SelectFromModel\n",
    "X_sfm = SelectFromModel(RandomForestClassifier(), threshold=-1, max_features=10).fit_transform(df_features_resampled,label_resampled)\n",
    "X_sfm_train, X_sfm_test, y_sfm_train, y_sfm_test = train_test_split(X_sfm,label_resampled, random_state=10)\n",
    "skb_estimator=estimator.fit(X_sfm_train, y_sfm_train)\n",
    "skb_estimator.score(X_sfm_test, y_sfm_test)"
   ]
  },
  {
   "cell_type": "code",
   "execution_count": 35,
   "id": "202a9f32",
   "metadata": {},
   "outputs": [
    {
     "name": "stdout",
     "output_type": "stream",
     "text": [
      "Selecting features with genetic algorithm.\n",
      "gen\tnevals\tavg                            \tstd                            \tmin                            \tmax                               \n",
      "0  \t500   \t[ 0.572447  5.56      0.004339]\t[ 0.058762  2.840845  0.001405]\t[ 0.489903  1.        0.000773]\t[  0.718653  10.         0.008267]\n",
      "1  \t326   \t[-699.426909    7.212     700.004253]\t[ 2551.627394     2.432911  2551.468997]\t[-10000.            1.            0.001053]\t[     0.718653     14.        10000.      ]\n",
      "2  \t302   \t[-299.349743    7.194     300.004584]\t[ 1705.986568     2.060185  1705.871405]\t[-10000.            2.            0.001278]\t[     0.718653     12.        10000.      ]\n",
      "3  \t283   \t[-319.314561    6.58      320.004633]\t[ 1760.124626     2.257344  1759.999158]\t[-10000.           2.           0.00231]   \t[     0.718653     12.        10000.      ]\n",
      "4  \t304   \t[-99.293516   5.878    100.004722]   \t[ 995.058442    2.189775  994.986963]   \t[-10000.            1.            0.001948]\t[     0.718653     12.        10000.      ]\n",
      "5  \t303   \t[-79.29086    5.778     80.004804]   \t[ 890.905981    2.18557   890.841867]   \t[-10000.            2.            0.002384]\t[     0.720218     12.        10000.      ]\n"
     ]
    },
    {
     "name": "stderr",
     "output_type": "stream",
     "text": [
      "C:\\Users\\Axleng\\AppData\\Local\\Programs\\Python\\Python310\\lib\\site-packages\\sklearn\\utils\\metaestimators.py:121: FutureWarning: if_delegate_has_method was deprecated in version 1.1 and will be removed in version 1.3. Use available_if instead.\n",
      "  warnings.warn(\n"
     ]
    },
    {
     "data": {
      "text/plain": [
       "0.7177664012135002"
      ]
     },
     "execution_count": 35,
     "metadata": {},
     "output_type": "execute_result"
    }
   ],
   "source": [
    "from genetic_selection import GeneticSelectionCV\n",
    "model_genetic = GeneticSelectionCV(estimator=estimator,scoring=\"accuracy\",verbose=1,max_features=10,crossover_proba=0.5,mutation_proba=0.2,n_generations=5,n_population=500,n_jobs=-1,cv=5)\n",
    "genetic_estimator=model_genetic.fit(X_resampled_train, y_resampled_train)\n",
    "genetic_estimator.score(X_resampled_test, y_resampled_test)"
   ]
  },
  {
   "cell_type": "code",
   "execution_count": 36,
   "id": "f0065e59",
   "metadata": {},
   "outputs": [
    {
     "data": {
      "text/plain": [
       "array([False, False, False, False, False, False, False, False, False,\n",
       "       False, False, False, False, False, False, False, False, False,\n",
       "       False, False, False, False, False, False, False, False, False,\n",
       "        True, False, False,  True,  True, False])"
      ]
     },
     "execution_count": 36,
     "metadata": {},
     "output_type": "execute_result"
    }
   ],
   "source": [
    "genetic_estimator.support_"
   ]
  },
  {
   "cell_type": "code",
   "execution_count": 37,
   "id": "d572920e",
   "metadata": {},
   "outputs": [
    {
     "name": "stdout",
     "output_type": "stream",
     "text": [
      "Selecting features with genetic algorithm.\n",
      "gen\tnevals\tavg                            \tstd                            \tmin                            \tmax                               \n",
      "0  \t500   \t[ 0.572222  5.562     0.004149]\t[ 0.059255  2.856249  0.001403]\t[ 0.475337  1.        0.000845]\t[  0.717414  10.         0.008738]\n",
      "1  \t279   \t[-539.419484    7.06      540.004134]\t[ 2260.315682     2.583873  2260.175997]\t[-10000.            1.            0.000604]\t[     0.717678     14.        10000.      ]\n",
      "2  \t298   \t[-419.361158    6.628     420.004403]\t[ 2006.025087     2.717649  2005.890401]\t[-10000.            1.            0.001035]\t[     0.718491     13.        10000.      ]\n",
      "3  \t281   \t[-119.30253     5.448     120.004592]\t[ 1088.929474     2.533633  1088.852101]\t[-10000.            1.            0.001759]\t[     0.718491     14.        10000.      ]\n",
      "4  \t300   \t[-39.289454   4.556     40.004673]   \t[ 631.234383    2.04716   631.189057]   \t[-10000.            1.            0.001995]\t[     0.718796     11.        10000.      ]\n",
      "5  \t315   \t[-39.288631   4.464     40.004801]   \t[ 631.234435    1.91643   631.189049]   \t[-10000.            1.            0.001604]\t[     0.718796     12.        10000.      ]\n",
      "6  \t310   \t[-59.289156   4.468     60.004893]   \t[ 772.324611    1.709086  772.269003]   \t[-10000.            1.            0.002296]\t[     0.718796     12.        10000.      ]\n",
      "7  \t282   \t[ 0.71606   4.386     0.005104]      \t[ 0.01436   1.520856  0.000681]         \t[ 0.516252  2.        0.002731]            \t[  0.718796  10.         0.007469]         \n",
      "8  \t314   \t[ 0.716038  4.422     0.005158]      \t[ 0.015388  1.415597  0.000618]         \t[ 0.517288  2.        0.002465]            \t[  0.718897  10.         0.00667 ]         \n",
      "9  \t317   \t[ 0.715712  4.796     0.00521 ]      \t[ 0.017857  1.400851  0.000521]         \t[ 0.527284  1.        0.003223]            \t[  0.718897  10.         0.006602]         \n",
      "10 \t286   \t[ 0.716873  5.044     0.005142]      \t[ 0.012472  1.262562  0.000495]         \t[ 0.555339  1.        0.002959]            \t[  0.718917  10.         0.006888]         \n",
      "11 \t289   \t[ 0.71757   5.29      0.005141]      \t[ 0.01155   1.059198  0.000407]         \t[ 0.523241  2.        0.003306]            \t[  0.718917  10.         0.006484]         \n",
      "12 \t291   \t[ 0.717784  5.374     0.005168]      \t[ 0.009994  0.906711  0.000388]         \t[ 0.559117  3.        0.003319]            \t[  0.718917  10.         0.006362]         \n",
      "13 \t317   \t[ 0.717189  5.502     0.005244]      \t[ 0.014     0.926281  0.000403]         \t[ 0.555765  4.        0.00333 ]            \t[  0.718999  10.         0.006228]         \n",
      "14 \t292   \t[-39.28643    5.834     40.005336]   \t[ 631.234574    1.070721  631.189015]   \t[-10000.            2.            0.003587]\t[     0.719019     11.        10000.      ]\n",
      "15 \t284   \t[-39.285359   6.192     40.005464]   \t[ 631.234642    0.977311  631.189007]   \t[-10000.            3.            0.003632]\t[     0.719019     11.        10000.      ]\n",
      "16 \t325   \t[ 0.716357  6.354     0.005527]      \t[ 0.018569  0.890328  0.0003  ]         \t[ 0.554181  4.        0.003734]            \t[  0.719019  10.         0.006228]         \n",
      "17 \t312   \t[-79.288408   6.5       80.005489]   \t[ 890.906201    1.053565  890.841805]   \t[-10000.            4.            0.003501]\t[     0.719019     11.        10000.      ]\n",
      "18 \t297   \t[-39.285993   6.326     40.005487]   \t[ 631.234602    1.272684  631.189006]   \t[-10000.            3.            0.004073]\t[     0.719019     12.        10000.      ]\n",
      "19 \t287   \t[ 0.717903  5.782     0.005541]      \t[ 0.010055  1.132465  0.000408]         \t[ 0.557472  4.        0.003614]            \t[  0.719019  10.         0.007439]         \n",
      "20 \t274   \t[ 0.716716  5.364     0.005535]      \t[ 0.017063  0.857615  0.000426]         \t[ 0.557614  3.        0.003489]            \t[ 0.719019  9.        0.006555]            \n",
      "21 \t281   \t[ 0.718062  5.182     0.00544 ]      \t[ 0.010002  0.607352  0.000375]         \t[ 0.55863   4.        0.001772]            \t[ 0.719019  8.        0.006336]            \n",
      "22 \t311   \t[ 0.717635  5.28      0.005311]      \t[ 0.011805  0.754718  0.000322]         \t[ 0.560377  4.        0.003668]            \t[  0.719019  10.         0.006187]         \n",
      "23 \t270   \t[-19.283727   5.196     20.00531 ]   \t[ 446.798223    0.727725  446.76592 ]   \t[-10000.            3.            0.003244]\t[     0.719019     11.        10000.      ]\n",
      "24 \t312   \t[ 0.717324  5.296     0.005293]      \t[ 0.013848  0.858128  0.000302]         \t[ 0.560052  4.        0.00325 ]            \t[  0.719019  10.         0.006951]         \n",
      "25 \t294   \t[ 0.716416  5.232     0.005311]      \t[ 0.01876   0.71146   0.000327]         \t[ 0.537583  2.        0.002066]            \t[ 0.719019  9.        0.007639]            \n",
      "26 \t301   \t[ 0.714447  5.254     0.005285]      \t[ 0.025367  0.7304    0.000321]         \t[ 0.537157  4.        0.002869]            \t[  0.719019  10.         0.006629]         \n",
      "27 \t287   \t[ 0.716296  5.28      0.005282]      \t[ 0.018442  0.800999  0.000324]         \t[ 0.558853  3.        0.003024]            \t[  0.719019  10.         0.006683]         \n",
      "28 \t305   \t[ 0.717635  5.246     0.005289]      \t[ 0.012077  0.710974  0.000298]         \t[ 0.557898  3.        0.002707]            \t[ 0.719019  9.        0.006222]            \n",
      "29 \t279   \t[ 0.716422  5.208     0.005309]      \t[ 0.018364  0.684643  0.000256]         \t[ 0.554445  4.        0.0036  ]            \t[ 0.719019  9.        0.006531]            \n",
      "30 \t302   \t[-19.284115   5.26      20.005298]   \t[ 446.798206    0.795236  446.765921]   \t[-10000.            4.            0.003706]\t[     0.719019     11.        10000.      ]\n",
      "31 \t306   \t[ 0.717688  5.236     0.005298]      \t[ 0.01177   0.721321  0.000262]         \t[ 0.563526  3.        0.003919]            \t[  0.719019  10.         0.007018]         \n",
      "32 \t264   \t[ 0.716134  5.204     0.005275]      \t[ 0.019826  0.652981  0.000307]         \t[ 0.536547  4.        0.003227]            \t[  0.719019  10.         0.006291]         \n",
      "33 \t299   \t[-19.285169   5.278     20.005292]   \t[ 446.798159    0.829889  446.765921]   \t[-10000.           3.           0.00286]   \t[     0.719019     11.        10000.      ]\n",
      "34 \t295   \t[ 0.717991  5.224     0.005302]      \t[ 0.009959  0.694135  0.000263]         \t[ 0.561291  4.        0.003367]            \t[ 0.719019  9.        0.006061]            \n",
      "35 \t309   \t[ 0.716685  5.234     0.005295]      \t[ 0.017295  0.720586  0.00029 ]         \t[ 0.555583  3.        0.003531]            \t[ 0.719019  9.        0.006178]            \n",
      "36 \t312   \t[ 0.717374  5.216     0.00534 ]      \t[ 0.01384   0.710876  0.000237]         \t[ 0.562287  4.        0.003873]            \t[ 0.719019  9.        0.006531]            \n",
      "37 \t303   \t[ 0.716057  5.236     0.005296]      \t[ 0.019969  0.687244  0.000308]         \t[ 0.538518  4.        0.002455]            \t[ 0.719019  9.        0.006158]            \n",
      "38 \t293   \t[ 0.716472  5.156     0.005318]      \t[ 0.018787  0.554675  0.00031 ]         \t[ 0.546461  3.        0.002974]            \t[ 0.719019  8.        0.007973]            \n",
      "39 \t286   \t[ 0.716694  5.218     0.005298]      \t[ 0.017184  0.714476  0.000286]         \t[ 0.558508  2.        0.002984]            \t[  0.719019  10.         0.006303]         \n",
      "40 \t301   \t[ 0.717109  5.18      0.005283]      \t[ 0.015657  0.586174  0.000307]         \t[ 0.557899  3.        0.002419]            \t[ 0.719019  9.        0.005965]            \n"
     ]
    },
    {
     "name": "stderr",
     "output_type": "stream",
     "text": [
      "C:\\Users\\Axleng\\AppData\\Local\\Programs\\Python\\Python310\\lib\\site-packages\\sklearn\\utils\\metaestimators.py:121: FutureWarning: if_delegate_has_method was deprecated in version 1.1 and will be removed in version 1.3. Use available_if instead.\n",
      "  warnings.warn(\n"
     ]
    },
    {
     "data": {
      "text/plain": [
       "0.7135949943117179"
      ]
     },
     "execution_count": 37,
     "metadata": {},
     "output_type": "execute_result"
    }
   ],
   "source": [
    "from genetic_selection import GeneticSelectionCV\n",
    "model_genetic_1 = GeneticSelectionCV(estimator=estimator,scoring=\"accuracy\",verbose=1,max_features=10,crossover_proba=0.5,mutation_proba=0.2,n_generations=40,n_population=500,n_jobs=-1,cv=5)\n",
    "genetic_estimator_1=model_genetic_1.fit(X_resampled_train, y_resampled_train)\n",
    "genetic_estimator_1.score(X_resampled_test, y_resampled_test)"
   ]
  },
  {
   "cell_type": "code",
   "execution_count": 38,
   "id": "a8fe31a6",
   "metadata": {},
   "outputs": [
    {
     "data": {
      "text/plain": [
       "array([False, False, False, False,  True, False, False, False, False,\n",
       "       False, False, False, False, False, False, False, False, False,\n",
       "       False,  True,  True, False, False,  True, False, False, False,\n",
       "       False, False, False,  True, False, False])"
      ]
     },
     "execution_count": 38,
     "metadata": {},
     "output_type": "execute_result"
    }
   ],
   "source": [
    "genetic_estimator_1.support_"
   ]
  },
  {
   "cell_type": "code",
   "execution_count": 39,
   "id": "8edab325",
   "metadata": {},
   "outputs": [],
   "source": [
    "features_seleted,label_seleted=df_features_resampled[:,[21,27,28,30,31]],label_resampled"
   ]
  },
  {
   "cell_type": "code",
   "execution_count": 40,
   "id": "d525dea2",
   "metadata": {},
   "outputs": [
    {
     "data": {
      "text/plain": [
       "(70320, 5)"
      ]
     },
     "execution_count": 40,
     "metadata": {},
     "output_type": "execute_result"
    }
   ],
   "source": [
    "features_seleted.shape"
   ]
  },
  {
   "cell_type": "markdown",
   "id": "595cbdfe",
   "metadata": {},
   "source": [
    "### Train start"
   ]
  },
  {
   "cell_type": "code",
   "execution_count": 41,
   "id": "e375c4a0",
   "metadata": {},
   "outputs": [],
   "source": [
    "from sklearn.metrics import accuracy_score, confusion_matrix, f1_score"
   ]
  },
  {
   "cell_type": "code",
   "execution_count": 42,
   "id": "2e2f3d36",
   "metadata": {},
   "outputs": [],
   "source": [
    "features_train, features_test, label_train, label_test = train_test_split(features_seleted,label_seleted, test_size=0.3, random_state=10)"
   ]
  },
  {
   "cell_type": "code",
   "execution_count": 43,
   "id": "b43546e6",
   "metadata": {},
   "outputs": [
    {
     "data": {
      "text/plain": [
       "0.7164391353811149"
      ]
     },
     "execution_count": 43,
     "metadata": {},
     "output_type": "execute_result"
    }
   ],
   "source": [
    "logreg = linear_model.LogisticRegression(C=1)\n",
    "logreg_prepro=logreg.fit(features_train, label_train)\n",
    "logreg_prepro.score(features_test, label_test)"
   ]
  },
  {
   "cell_type": "code",
   "execution_count": 44,
   "id": "d122a95a",
   "metadata": {},
   "outputs": [
    {
     "data": {
      "text/plain": [
       "0.6869701726844584"
      ]
     },
     "execution_count": 44,
     "metadata": {},
     "output_type": "execute_result"
    }
   ],
   "source": [
    "logreg_pre_test=logreg_prepro.predict(features_test)\n",
    "logreg_prepro_f1=f1_score(label_test, logreg_pre_test)\n",
    "logreg_prepro_f1"
   ]
  },
  {
   "cell_type": "code",
   "execution_count": 45,
   "id": "1ff378ba",
   "metadata": {},
   "outputs": [
    {
     "data": {
      "text/plain": [
       "Text(0.5, 0, 'Predicted label')"
      ]
     },
     "execution_count": 45,
     "metadata": {},
     "output_type": "execute_result"
    },
    {
     "data": {
      "image/png": "[encoded data removed]",
      "text/plain": [
       "<Figure size 640x480 with 2 Axes>"
      ]
     },
     "metadata": {},
     "output_type": "display_data"
    }
   ],
   "source": [
    "logreg_pre_confusion = confusion_matrix(label_test, logreg_pre_test,normalize=\"all\")\n",
    "plt.imshow(logreg_pre_confusion,cmap=plt.cm.Blues)\n",
    "plt.colorbar()\n",
    "plt.title(\"Logtic Regression\")\n",
    "plt.ylabel('True label')\n",
    "plt.xlabel('Predicted label')"
   ]
  },
  {
   "cell_type": "code",
   "execution_count": 46,
   "id": "bf2f5709",
   "metadata": {},
   "outputs": [
    {
     "data": {
      "text/plain": [
       "0.9441600303375047"
      ]
     },
     "execution_count": 46,
     "metadata": {},
     "output_type": "execute_result"
    }
   ],
   "source": [
    "clf = DecisionTreeClassifier(random_state=10)\n",
    "clf = clf.fit(features_train,label_train)\n",
    "clf.score(features_test,label_test)"
   ]
  },
  {
   "cell_type": "code",
   "execution_count": 47,
   "id": "ff63873d",
   "metadata": {},
   "outputs": [
    {
     "data": {
      "text/plain": [
       "0.9443341839145638"
      ]
     },
     "execution_count": 47,
     "metadata": {},
     "output_type": "execute_result"
    }
   ],
   "source": [
    "clf_pre_test=clf.predict(features_test)\n",
    "clf_f1=f1_score(label_test, clf_pre_test)\n",
    "clf_f1"
   ]
  },
  {
   "cell_type": "code",
   "execution_count": 48,
   "id": "55688fe2",
   "metadata": {},
   "outputs": [
    {
     "data": {
      "text/plain": [
       "Text(0.5, 0, 'Predicted label')"
      ]
     },
     "execution_count": 48,
     "metadata": {},
     "output_type": "execute_result"
    },
    {
     "data": {
      "image/png": "[encoded data removed]",
      "text/plain": [
       "<Figure size 640x480 with 2 Axes>"
      ]
     },
     "metadata": {},
     "output_type": "display_data"
    }
   ],
   "source": [
    "clf_pre_confusion = confusion_matrix(label_test, clf_pre_test,normalize=\"all\")\n",
    "plt.imshow(clf_pre_confusion,cmap=plt.cm.Blues)\n",
    "plt.colorbar()\n",
    "plt.title(\"Decision Tree\")\n",
    "plt.ylabel('True label')\n",
    "plt.xlabel('Predicted label')"
   ]
  },
  {
   "cell_type": "code",
   "execution_count": 49,
   "id": "83c14421",
   "metadata": {},
   "outputs": [
    {
     "data": {
      "text/plain": [
       "0.9531190747061055"
      ]
     },
     "execution_count": 49,
     "metadata": {},
     "output_type": "execute_result"
    }
   ],
   "source": [
    "rfc = RandomForestClassifier(random_state=10)\n",
    "rfc = rfc.fit(features_train,label_train)\n",
    "rfc.score(features_test,label_test)"
   ]
  },
  {
   "cell_type": "code",
   "execution_count": 50,
   "id": "cf457c9a",
   "metadata": {},
   "outputs": [
    {
     "data": {
      "text/plain": [
       "0.9528531248510272"
      ]
     },
     "execution_count": 50,
     "metadata": {},
     "output_type": "execute_result"
    }
   ],
   "source": [
    "rfc_pre_test=rfc.predict(features_test)\n",
    "rfc_f1=f1_score(label_test, rfc_pre_test)\n",
    "rfc_f1"
   ]
  },
  {
   "cell_type": "code",
   "execution_count": 51,
   "id": "80bfbbfa",
   "metadata": {},
   "outputs": [
    {
     "data": {
      "text/plain": [
       "Text(0.5, 0, 'Predicted label')"
      ]
     },
     "execution_count": 51,
     "metadata": {},
     "output_type": "execute_result"
    },
    {
     "data": {
      "image/png": "[encoded data removed]",
      "text/plain": [
       "<Figure size 640x480 with 2 Axes>"
      ]
     },
     "metadata": {},
     "output_type": "display_data"
    }
   ],
   "source": [
    "rfc_pre_confusion = confusion_matrix(label_test, rfc_pre_test,normalize=\"all\")\n",
    "plt.imshow(rfc_pre_confusion,cmap=plt.cm.Blues)\n",
    "plt.colorbar()\n",
    "plt.title(\"Random Forest\")\n",
    "plt.ylabel('True label')\n",
    "plt.xlabel('Predicted label')"
   ]
  },
  {
   "cell_type": "code",
   "execution_count": 52,
   "id": "dc415638",
   "metadata": {},
   "outputs": [
    {
     "data": {
      "text/plain": [
       "0.7521331058020477"
      ]
     },
     "execution_count": 52,
     "metadata": {},
     "output_type": "execute_result"
    }
   ],
   "source": [
    "Svm=svm.SVC(C=5,)\n",
    "test_svm=Svm.fit(features_train, label_train)\n",
    "test_svm.score(features_test,label_test)"
   ]
  },
  {
   "cell_type": "code",
   "execution_count": 53,
   "id": "db3d7b34",
   "metadata": {},
   "outputs": [
    {
     "data": {
      "text/plain": [
       "0.7530111945585942"
      ]
     },
     "execution_count": 53,
     "metadata": {},
     "output_type": "execute_result"
    }
   ],
   "source": [
    "test_svm_pre_test=test_svm.predict(features_test)\n",
    "test_svm_f1=f1_score(label_test,test_svm_pre_test)\n",
    "test_svm_f1"
   ]
  },
  {
   "cell_type": "code",
   "execution_count": 54,
   "id": "27608784",
   "metadata": {},
   "outputs": [
    {
     "data": {
      "text/plain": [
       "Text(0.5, 0, 'Predicted label')"
      ]
     },
     "execution_count": 54,
     "metadata": {},
     "output_type": "execute_result"
    },
    {
     "data": {
      "image/png": "[encoded data removed]",
      "text/plain": [
       "<Figure size 640x480 with 2 Axes>"
      ]
     },
     "metadata": {},
     "output_type": "display_data"
    }
   ],
   "source": [
    "test_svm_pre_confusion = confusion_matrix(label_test, test_svm_pre_test,normalize=\"all\")\n",
    "plt.imshow(test_svm_pre_confusion,cmap=plt.cm.Blues)\n",
    "plt.colorbar()\n",
    "plt.title(\"SVM\")\n",
    "plt.ylabel('True label')\n",
    "plt.xlabel('Predicted label')"
   ]
  },
  {
   "cell_type": "code",
   "execution_count": 55,
   "id": "fec14e6d",
   "metadata": {},
   "outputs": [
    {
     "data": {
      "text/plain": [
       "0.960608646188851"
      ]
     },
     "execution_count": 55,
     "metadata": {},
     "output_type": "execute_result"
    }
   ],
   "source": [
    "from xgboost import XGBClassifier\n",
    "Xgboost=XGBClassifier(max_depth=3,n_jobs=1,random_state=10)\n",
    "test_xgboost=Xgboost.fit(features_train, label_train)\n",
    "test_xgboost.score(features_test,label_test)"
   ]
  },
  {
   "cell_type": "code",
   "execution_count": 56,
   "id": "f1a6dd8e",
   "metadata": {},
   "outputs": [
    {
     "data": {
      "text/plain": [
       "0.9595009503387104"
      ]
     },
     "execution_count": 56,
     "metadata": {},
     "output_type": "execute_result"
    }
   ],
   "source": [
    "test_xgboost_pre_test=test_xgboost.predict(features_test)\n",
    "test_xgboost_f1=f1_score(label_test,test_xgboost_pre_test)\n",
    "test_xgboost_f1"
   ]
  },
  {
   "cell_type": "code",
   "execution_count": 57,
   "id": "b53d9693",
   "metadata": {},
   "outputs": [
    {
     "data": {
      "text/plain": [
       "Text(0.5, 0, 'Predicted label')"
      ]
     },
     "execution_count": 57,
     "metadata": {},
     "output_type": "execute_result"
    },
    {
     "data": {
      "image/png": "[encoded data removed]",
      "text/plain": [
       "<Figure size 640x480 with 2 Axes>"
      ]
     },
     "metadata": {},
     "output_type": "display_data"
    }
   ],
   "source": [
    "test_xgboost_pre_confusion = confusion_matrix(label_test, test_xgboost_pre_test,normalize=\"all\")\n",
    "plt.imshow(test_xgboost_pre_confusion,cmap=plt.cm.Blues)\n",
    "plt.colorbar()\n",
    "plt.title(\"XGboost\")\n",
    "plt.ylabel('True label')\n",
    "plt.xlabel('Predicted label')"
   ]
  }
 ],
 "metadata": {
  "kernelspec": {
   "display_name": "Python 3 (ipykernel)",
   "language": "python",
   "name": "python3"
  },
  "language_info": {
   "codemirror_mode": {
    "name": "ipython",
    "version": 3
   },
   "file_extension": ".py",
   "mimetype": "text/x-python",
   "name": "python",
   "nbconvert_exporter": "python",
   "pygments_lexer": "ipython3",
   "version": "3.10.5"
  }
 },
 "nbformat": 4,
 "nbformat_minor": 5
}
