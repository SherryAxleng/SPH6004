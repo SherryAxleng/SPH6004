{
 "cells": [
  {
   "cell_type": "code",
   "execution_count": 1,
   "id": "52ee0add",
   "metadata": {},
   "outputs": [
    {
     "name": "stdout",
     "output_type": "stream",
     "text": [
      "Requirement already satisfied: pandas in c:\\users\\axleng\\appdata\\local\\programs\\python\\python310\\lib\\site-packages (1.5.3)\n",
      "Requirement already satisfied: numpy>=1.21.0 in c:\\users\\axleng\\appdata\\local\\programs\\python\\python310\\lib\\site-packages (from pandas) (1.23.4)\n",
      "Requirement already satisfied: python-dateutil>=2.8.1 in c:\\users\\axleng\\appdata\\local\\programs\\python\\python310\\lib\\site-packages (from pandas) (2.8.2)\n",
      "Requirement already satisfied: pytz>=2020.1 in c:\\users\\axleng\\appdata\\local\\programs\\python\\python310\\lib\\site-packages (from pandas) (2022.7.1)\n",
      "Requirement already satisfied: six>=1.5 in c:\\users\\axleng\\appdata\\local\\programs\\python\\python310\\lib\\site-packages (from python-dateutil>=2.8.1->pandas) (1.16.0)\n",
      "Note: you may need to restart the kernel to use updated packages.\n"
     ]
    },
    {
     "name": "stderr",
     "output_type": "stream",
     "text": [
      "\n",
      "[notice] A new release of pip available: 22.3 -> 23.0.1\n",
      "[notice] To update, run: python.exe -m pip install --upgrade pip\n"
     ]
    }
   ],
   "source": [
    "pip install pandas"
   ]
  },
  {
   "cell_type": "code",
   "execution_count": 2,
   "id": "5649f721",
   "metadata": {},
   "outputs": [
    {
     "name": "stdout",
     "output_type": "stream",
     "text": [
      "Requirement already satisfied: scikit-learn in c:\\users\\axleng\\appdata\\local\\programs\\python\\python310\\lib\\site-packages (1.2.1)\n",
      "Requirement already satisfied: numpy>=1.17.3 in c:\\users\\axleng\\appdata\\local\\programs\\python\\python310\\lib\\site-packages (from scikit-learn) (1.23.4)\n",
      "Requirement already satisfied: threadpoolctl>=2.0.0 in c:\\users\\axleng\\appdata\\local\\programs\\python\\python310\\lib\\site-packages (from scikit-learn) (3.1.0)\n",
      "Requirement already satisfied: joblib>=1.1.1 in c:\\users\\axleng\\appdata\\local\\programs\\python\\python310\\lib\\site-packages (from scikit-learn) (1.2.0)\n",
      "Requirement already satisfied: scipy>=1.3.2 in c:\\users\\axleng\\appdata\\local\\programs\\python\\python310\\lib\\site-packages (from scikit-learn) (1.9.3)\n",
      "Note: you may need to restart the kernel to use updated packages.\n"
     ]
    },
    {
     "name": "stderr",
     "output_type": "stream",
     "text": [
      "\n",
      "[notice] A new release of pip available: 22.3 -> 23.0.1\n",
      "[notice] To update, run: python.exe -m pip install --upgrade pip\n"
     ]
    }
   ],
   "source": [
    "pip install scikit-learn"
   ]
  },
  {
   "cell_type": "code",
   "execution_count": 3,
   "id": "b9ca625a-b679-46f1-9da4-2b61173ce749",
   "metadata": {},
   "outputs": [],
   "source": [
    "import numpy as np\n",
    "import pandas as pd"
   ]
  },
  {
   "cell_type": "code",
   "execution_count": 4,
   "id": "0b9ac157",
   "metadata": {},
   "outputs": [],
   "source": [
    "from sklearn.impute import KNNImputer"
   ]
  },
  {
   "cell_type": "code",
   "execution_count": 5,
   "id": "3aae82fc",
   "metadata": {},
   "outputs": [],
   "source": [
    "from sklearn.decomposition import PCA"
   ]
  },
  {
   "cell_type": "code",
   "execution_count": 6,
   "id": "ce01e5d0",
   "metadata": {},
   "outputs": [],
   "source": [
    "from sklearn.model_selection import train_test_split\n",
    "from sklearn.preprocessing import StandardScaler\n",
    "from sklearn import linear_model\n",
    "from sklearn.tree import DecisionTreeClassifier\n",
    "from sklearn.ensemble import RandomForestClassifier\n",
    "from sklearn import svm\n",
    "from sklearn.metrics import accuracy_score"
   ]
  },
  {
   "cell_type": "code",
   "execution_count": 7,
   "id": "e4dfe131-f252-4c35-8fc9-88c3af0b29f1",
   "metadata": {},
   "outputs": [
    {
     "data": {
      "text/html": [
       "<div>\n",
       "<style scoped>\n",
       "    .dataframe tbody tr th:only-of-type {\n",
       "        vertical-align: middle;\n",
       "    }\n",
       "\n",
       "    .dataframe tbody tr th {\n",
       "        vertical-align: top;\n",
       "    }\n",
       "\n",
       "    .dataframe thead th {\n",
       "        text-align: right;\n",
       "    }\n",
       "</style>\n",
       "<table border=\"1\" class=\"dataframe\">\n",
       "  <thead>\n",
       "    <tr style=\"text-align: right;\">\n",
       "      <th></th>\n",
       "      <th>gender</th>\n",
       "      <th>age</th>\n",
       "      <th>heart_rate_min</th>\n",
       "      <th>heart_rate_max</th>\n",
       "      <th>heart_rate_mean</th>\n",
       "      <th>mbp_min</th>\n",
       "      <th>mbp_max</th>\n",
       "      <th>mbp_mean</th>\n",
       "      <th>sbp_min</th>\n",
       "      <th>sbp_max</th>\n",
       "      <th>...</th>\n",
       "      <th>bilirubin_indirect_min</th>\n",
       "      <th>urineoutput</th>\n",
       "      <th>sofa_respiration</th>\n",
       "      <th>sofa_coagulation</th>\n",
       "      <th>sofa_liver</th>\n",
       "      <th>sofa_cardiovascular</th>\n",
       "      <th>sofa_cns</th>\n",
       "      <th>sofa_renal</th>\n",
       "      <th>charlson_comorbidity_index</th>\n",
       "      <th>outcome</th>\n",
       "    </tr>\n",
       "  </thead>\n",
       "  <tbody>\n",
       "    <tr>\n",
       "      <th>0</th>\n",
       "      <td>M</td>\n",
       "      <td>54.550390</td>\n",
       "      <td>93.0</td>\n",
       "      <td>115.0</td>\n",
       "      <td>103.500000</td>\n",
       "      <td>57.0</td>\n",
       "      <td>100.0</td>\n",
       "      <td>82.733333</td>\n",
       "      <td>87.0</td>\n",
       "      <td>163.0</td>\n",
       "      <td>...</td>\n",
       "      <td>NaN</td>\n",
       "      <td>3459.0</td>\n",
       "      <td>2.0</td>\n",
       "      <td>0.0</td>\n",
       "      <td>NaN</td>\n",
       "      <td>1.0</td>\n",
       "      <td>0.0</td>\n",
       "      <td>1.0</td>\n",
       "      <td>3</td>\n",
       "      <td>False</td>\n",
       "    </tr>\n",
       "    <tr>\n",
       "      <th>1</th>\n",
       "      <td>M</td>\n",
       "      <td>86.324653</td>\n",
       "      <td>50.0</td>\n",
       "      <td>61.0</td>\n",
       "      <td>54.333333</td>\n",
       "      <td>61.0</td>\n",
       "      <td>93.0</td>\n",
       "      <td>71.695652</td>\n",
       "      <td>95.0</td>\n",
       "      <td>141.0</td>\n",
       "      <td>...</td>\n",
       "      <td>NaN</td>\n",
       "      <td>2020.0</td>\n",
       "      <td>NaN</td>\n",
       "      <td>1.0</td>\n",
       "      <td>NaN</td>\n",
       "      <td>1.0</td>\n",
       "      <td>1.0</td>\n",
       "      <td>1.0</td>\n",
       "      <td>8</td>\n",
       "      <td>False</td>\n",
       "    </tr>\n",
       "    <tr>\n",
       "      <th>2</th>\n",
       "      <td>M</td>\n",
       "      <td>40.270146</td>\n",
       "      <td>70.0</td>\n",
       "      <td>105.0</td>\n",
       "      <td>83.434783</td>\n",
       "      <td>66.0</td>\n",
       "      <td>92.0</td>\n",
       "      <td>76.695652</td>\n",
       "      <td>94.0</td>\n",
       "      <td>129.0</td>\n",
       "      <td>...</td>\n",
       "      <td>NaN</td>\n",
       "      <td>3050.0</td>\n",
       "      <td>NaN</td>\n",
       "      <td>1.0</td>\n",
       "      <td>0.0</td>\n",
       "      <td>1.0</td>\n",
       "      <td>1.0</td>\n",
       "      <td>0.0</td>\n",
       "      <td>4</td>\n",
       "      <td>False</td>\n",
       "    </tr>\n",
       "    <tr>\n",
       "      <th>3</th>\n",
       "      <td>M</td>\n",
       "      <td>73.383547</td>\n",
       "      <td>68.0</td>\n",
       "      <td>98.0</td>\n",
       "      <td>83.880000</td>\n",
       "      <td>74.0</td>\n",
       "      <td>101.0</td>\n",
       "      <td>84.694444</td>\n",
       "      <td>83.0</td>\n",
       "      <td>148.0</td>\n",
       "      <td>...</td>\n",
       "      <td>NaN</td>\n",
       "      <td>1592.0</td>\n",
       "      <td>NaN</td>\n",
       "      <td>0.0</td>\n",
       "      <td>NaN</td>\n",
       "      <td>0.0</td>\n",
       "      <td>0.0</td>\n",
       "      <td>1.0</td>\n",
       "      <td>6</td>\n",
       "      <td>False</td>\n",
       "    </tr>\n",
       "    <tr>\n",
       "      <th>4</th>\n",
       "      <td>M</td>\n",
       "      <td>70.724748</td>\n",
       "      <td>77.0</td>\n",
       "      <td>95.0</td>\n",
       "      <td>85.771429</td>\n",
       "      <td>30.0</td>\n",
       "      <td>90.0</td>\n",
       "      <td>62.657143</td>\n",
       "      <td>52.0</td>\n",
       "      <td>129.0</td>\n",
       "      <td>...</td>\n",
       "      <td>NaN</td>\n",
       "      <td>339.0</td>\n",
       "      <td>2.0</td>\n",
       "      <td>0.0</td>\n",
       "      <td>0.0</td>\n",
       "      <td>4.0</td>\n",
       "      <td>1.0</td>\n",
       "      <td>3.0</td>\n",
       "      <td>10</td>\n",
       "      <td>False</td>\n",
       "    </tr>\n",
       "    <tr>\n",
       "      <th>...</th>\n",
       "      <td>...</td>\n",
       "      <td>...</td>\n",
       "      <td>...</td>\n",
       "      <td>...</td>\n",
       "      <td>...</td>\n",
       "      <td>...</td>\n",
       "      <td>...</td>\n",
       "      <td>...</td>\n",
       "      <td>...</td>\n",
       "      <td>...</td>\n",
       "      <td>...</td>\n",
       "      <td>...</td>\n",
       "      <td>...</td>\n",
       "      <td>...</td>\n",
       "      <td>...</td>\n",
       "      <td>...</td>\n",
       "      <td>...</td>\n",
       "      <td>...</td>\n",
       "      <td>...</td>\n",
       "      <td>...</td>\n",
       "      <td>...</td>\n",
       "    </tr>\n",
       "    <tr>\n",
       "      <th>36484</th>\n",
       "      <td>F</td>\n",
       "      <td>84.952721</td>\n",
       "      <td>59.0</td>\n",
       "      <td>80.0</td>\n",
       "      <td>68.538462</td>\n",
       "      <td>2.0</td>\n",
       "      <td>95.0</td>\n",
       "      <td>74.346154</td>\n",
       "      <td>109.0</td>\n",
       "      <td>152.0</td>\n",
       "      <td>...</td>\n",
       "      <td>NaN</td>\n",
       "      <td>697.0</td>\n",
       "      <td>NaN</td>\n",
       "      <td>0.0</td>\n",
       "      <td>0.0</td>\n",
       "      <td>1.0</td>\n",
       "      <td>4.0</td>\n",
       "      <td>1.0</td>\n",
       "      <td>10</td>\n",
       "      <td>False</td>\n",
       "    </tr>\n",
       "    <tr>\n",
       "      <th>36485</th>\n",
       "      <td>F</td>\n",
       "      <td>30.583263</td>\n",
       "      <td>59.0</td>\n",
       "      <td>104.0</td>\n",
       "      <td>79.954545</td>\n",
       "      <td>67.0</td>\n",
       "      <td>91.0</td>\n",
       "      <td>77.820000</td>\n",
       "      <td>94.0</td>\n",
       "      <td>140.0</td>\n",
       "      <td>...</td>\n",
       "      <td>NaN</td>\n",
       "      <td>2000.0</td>\n",
       "      <td>NaN</td>\n",
       "      <td>0.0</td>\n",
       "      <td>NaN</td>\n",
       "      <td>1.0</td>\n",
       "      <td>1.0</td>\n",
       "      <td>0.0</td>\n",
       "      <td>0</td>\n",
       "      <td>False</td>\n",
       "    </tr>\n",
       "    <tr>\n",
       "      <th>36486</th>\n",
       "      <td>F</td>\n",
       "      <td>60.095765</td>\n",
       "      <td>71.0</td>\n",
       "      <td>94.0</td>\n",
       "      <td>82.625000</td>\n",
       "      <td>51.0</td>\n",
       "      <td>92.0</td>\n",
       "      <td>61.772727</td>\n",
       "      <td>90.0</td>\n",
       "      <td>120.0</td>\n",
       "      <td>...</td>\n",
       "      <td>NaN</td>\n",
       "      <td>3500.0</td>\n",
       "      <td>NaN</td>\n",
       "      <td>0.0</td>\n",
       "      <td>NaN</td>\n",
       "      <td>1.0</td>\n",
       "      <td>0.0</td>\n",
       "      <td>0.0</td>\n",
       "      <td>3</td>\n",
       "      <td>False</td>\n",
       "    </tr>\n",
       "    <tr>\n",
       "      <th>36487</th>\n",
       "      <td>M</td>\n",
       "      <td>78.847051</td>\n",
       "      <td>63.0</td>\n",
       "      <td>86.0</td>\n",
       "      <td>72.836735</td>\n",
       "      <td>113.0</td>\n",
       "      <td>121.0</td>\n",
       "      <td>117.000000</td>\n",
       "      <td>148.0</td>\n",
       "      <td>219.0</td>\n",
       "      <td>...</td>\n",
       "      <td>NaN</td>\n",
       "      <td>1900.0</td>\n",
       "      <td>NaN</td>\n",
       "      <td>0.0</td>\n",
       "      <td>NaN</td>\n",
       "      <td>0.0</td>\n",
       "      <td>1.0</td>\n",
       "      <td>0.0</td>\n",
       "      <td>5</td>\n",
       "      <td>False</td>\n",
       "    </tr>\n",
       "    <tr>\n",
       "      <th>36488</th>\n",
       "      <td>M</td>\n",
       "      <td>32.783457</td>\n",
       "      <td>86.0</td>\n",
       "      <td>103.0</td>\n",
       "      <td>94.000000</td>\n",
       "      <td>83.0</td>\n",
       "      <td>118.0</td>\n",
       "      <td>99.916667</td>\n",
       "      <td>97.0</td>\n",
       "      <td>176.0</td>\n",
       "      <td>...</td>\n",
       "      <td>NaN</td>\n",
       "      <td>NaN</td>\n",
       "      <td>NaN</td>\n",
       "      <td>0.0</td>\n",
       "      <td>0.0</td>\n",
       "      <td>0.0</td>\n",
       "      <td>1.0</td>\n",
       "      <td>4.0</td>\n",
       "      <td>5</td>\n",
       "      <td>False</td>\n",
       "    </tr>\n",
       "  </tbody>\n",
       "</table>\n",
       "<p>36489 rows × 60 columns</p>\n",
       "</div>"
      ],
      "text/plain": [
       "      gender        age  heart_rate_min  heart_rate_max  heart_rate_mean  \\\n",
       "0          M  54.550390            93.0           115.0       103.500000   \n",
       "1          M  86.324653            50.0            61.0        54.333333   \n",
       "2          M  40.270146            70.0           105.0        83.434783   \n",
       "3          M  73.383547            68.0            98.0        83.880000   \n",
       "4          M  70.724748            77.0            95.0        85.771429   \n",
       "...      ...        ...             ...             ...              ...   \n",
       "36484      F  84.952721            59.0            80.0        68.538462   \n",
       "36485      F  30.583263            59.0           104.0        79.954545   \n",
       "36486      F  60.095765            71.0            94.0        82.625000   \n",
       "36487      M  78.847051            63.0            86.0        72.836735   \n",
       "36488      M  32.783457            86.0           103.0        94.000000   \n",
       "\n",
       "       mbp_min  mbp_max    mbp_mean  sbp_min  sbp_max  ...  \\\n",
       "0         57.0    100.0   82.733333     87.0    163.0  ...   \n",
       "1         61.0     93.0   71.695652     95.0    141.0  ...   \n",
       "2         66.0     92.0   76.695652     94.0    129.0  ...   \n",
       "3         74.0    101.0   84.694444     83.0    148.0  ...   \n",
       "4         30.0     90.0   62.657143     52.0    129.0  ...   \n",
       "...        ...      ...         ...      ...      ...  ...   \n",
       "36484      2.0     95.0   74.346154    109.0    152.0  ...   \n",
       "36485     67.0     91.0   77.820000     94.0    140.0  ...   \n",
       "36486     51.0     92.0   61.772727     90.0    120.0  ...   \n",
       "36487    113.0    121.0  117.000000    148.0    219.0  ...   \n",
       "36488     83.0    118.0   99.916667     97.0    176.0  ...   \n",
       "\n",
       "       bilirubin_indirect_min  urineoutput  sofa_respiration  \\\n",
       "0                         NaN       3459.0               2.0   \n",
       "1                         NaN       2020.0               NaN   \n",
       "2                         NaN       3050.0               NaN   \n",
       "3                         NaN       1592.0               NaN   \n",
       "4                         NaN        339.0               2.0   \n",
       "...                       ...          ...               ...   \n",
       "36484                     NaN        697.0               NaN   \n",
       "36485                     NaN       2000.0               NaN   \n",
       "36486                     NaN       3500.0               NaN   \n",
       "36487                     NaN       1900.0               NaN   \n",
       "36488                     NaN          NaN               NaN   \n",
       "\n",
       "       sofa_coagulation  sofa_liver  sofa_cardiovascular  sofa_cns  \\\n",
       "0                   0.0         NaN                  1.0       0.0   \n",
       "1                   1.0         NaN                  1.0       1.0   \n",
       "2                   1.0         0.0                  1.0       1.0   \n",
       "3                   0.0         NaN                  0.0       0.0   \n",
       "4                   0.0         0.0                  4.0       1.0   \n",
       "...                 ...         ...                  ...       ...   \n",
       "36484               0.0         0.0                  1.0       4.0   \n",
       "36485               0.0         NaN                  1.0       1.0   \n",
       "36486               0.0         NaN                  1.0       0.0   \n",
       "36487               0.0         NaN                  0.0       1.0   \n",
       "36488               0.0         0.0                  0.0       1.0   \n",
       "\n",
       "       sofa_renal  charlson_comorbidity_index  outcome  \n",
       "0             1.0                           3    False  \n",
       "1             1.0                           8    False  \n",
       "2             0.0                           4    False  \n",
       "3             1.0                           6    False  \n",
       "4             3.0                          10    False  \n",
       "...           ...                         ...      ...  \n",
       "36484         1.0                          10    False  \n",
       "36485         0.0                           0    False  \n",
       "36486         0.0                           3    False  \n",
       "36487         0.0                           5    False  \n",
       "36488         4.0                           5    False  \n",
       "\n",
       "[36489 rows x 60 columns]"
      ]
     },
     "execution_count": 7,
     "metadata": {},
     "output_type": "execute_result"
    }
   ],
   "source": [
    "df=pd.read_csv(r'C:\\Users\\Axleng\\Desktop\\SPH6004\\Assignment_1_data.csv')\n",
    "df"
   ]
  },
  {
   "cell_type": "code",
   "execution_count": 8,
   "id": "9b58ff03",
   "metadata": {},
   "outputs": [
    {
     "name": "stdout",
     "output_type": "stream",
     "text": [
      "<class 'pandas.core.frame.DataFrame'>\n",
      "RangeIndex: 36489 entries, 0 to 36488\n",
      "Data columns (total 60 columns):\n",
      " #   Column                      Non-Null Count  Dtype  \n",
      "---  ------                      --------------  -----  \n",
      " 0   gender                      36489 non-null  object \n",
      " 1   age                         36489 non-null  float64\n",
      " 2   heart_rate_min              36417 non-null  float64\n",
      " 3   heart_rate_max              36417 non-null  float64\n",
      " 4   heart_rate_mean             36417 non-null  float64\n",
      " 5   mbp_min                     36401 non-null  float64\n",
      " 6   mbp_max                     36401 non-null  float64\n",
      " 7   mbp_mean                    36401 non-null  float64\n",
      " 8   sbp_min                     36343 non-null  float64\n",
      " 9   sbp_max                     36343 non-null  float64\n",
      " 10  sbp_mean                    36343 non-null  float64\n",
      " 11  dbp_min                     36341 non-null  float64\n",
      " 12  dbp_max                     36341 non-null  float64\n",
      " 13  dbp_mean                    36341 non-null  float64\n",
      " 14  temperature_min             36126 non-null  float64\n",
      " 15  temperature_max             36126 non-null  float64\n",
      " 16  temperature_mean            36126 non-null  float64\n",
      " 17  lactate_min                 15930 non-null  float64\n",
      " 18  lactate_max                 15930 non-null  float64\n",
      " 19  ph_min                      18860 non-null  float64\n",
      " 20  ph_max                      18860 non-null  float64\n",
      " 21  chloride_min                6129 non-null   float64\n",
      " 22  chloride_max                6129 non-null   float64\n",
      " 23  calcium_min                 9289 non-null   float64\n",
      " 24  calcium_max                 9289 non-null   float64\n",
      " 25  sodium_min                  6554 non-null   float64\n",
      " 26  sodium_max                  6554 non-null   float64\n",
      " 27  glucose_min                 36191 non-null  float64\n",
      " 28  glucose_max                 36191 non-null  float64\n",
      " 29  wbc_min                     36235 non-null  float64\n",
      " 30  wbc_max                     36235 non-null  float64\n",
      " 31  creatinine_min              36291 non-null  float64\n",
      " 32  creatinine_max              36291 non-null  float64\n",
      " 33  hemoglobin_min              36232 non-null  float64\n",
      " 34  hemoglobin_max              36232 non-null  float64\n",
      " 35  total_protein_max           974 non-null    float64\n",
      " 36  total_protein_min           974 non-null    float64\n",
      " 37  pt_min                      32345 non-null  float64\n",
      " 38  pt_max                      32345 non-null  float64\n",
      " 39  alt_max                     18663 non-null  float64\n",
      " 40  alt_min                     18663 non-null  float64\n",
      " 41  alp_max                     18580 non-null  float64\n",
      " 42  alp_min                     18580 non-null  float64\n",
      " 43  ast_min                     18776 non-null  float64\n",
      " 44  ast_max                     18776 non-null  float64\n",
      " 45  bilirubin_total_max         18590 non-null  float64\n",
      " 46  bilirubin_total_min         18590 non-null  float64\n",
      " 47  bilirubin_direct_max        1605 non-null   float64\n",
      " 48  bilirubin_direct_min        1605 non-null   float64\n",
      " 49  bilirubin_indirect_max      1544 non-null   float64\n",
      " 50  bilirubin_indirect_min      1544 non-null   float64\n",
      " 51  urineoutput                 35073 non-null  float64\n",
      " 52  sofa_respiration            7587 non-null   float64\n",
      " 53  sofa_coagulation            36235 non-null  float64\n",
      " 54  sofa_liver                  18590 non-null  float64\n",
      " 55  sofa_cardiovascular         36402 non-null  float64\n",
      " 56  sofa_cns                    36468 non-null  float64\n",
      " 57  sofa_renal                  36467 non-null  float64\n",
      " 58  charlson_comorbidity_index  36489 non-null  int64  \n",
      " 59  outcome                     36489 non-null  bool   \n",
      "dtypes: bool(1), float64(57), int64(1), object(1)\n",
      "memory usage: 16.5+ MB\n"
     ]
    }
   ],
   "source": [
    "df.info()"
   ]
  },
  {
   "cell_type": "code",
   "execution_count": 9,
   "id": "a411f088-a273-48f5-93f5-d58cde714123",
   "metadata": {},
   "outputs": [
    {
     "data": {
      "text/plain": [
       "0        54\n",
       "1        86\n",
       "2        40\n",
       "3        73\n",
       "4        70\n",
       "         ..\n",
       "36484    84\n",
       "36485    30\n",
       "36486    60\n",
       "36487    78\n",
       "36488    32\n",
       "Name: age, Length: 36489, dtype: int64"
      ]
     },
     "execution_count": 9,
     "metadata": {},
     "output_type": "execute_result"
    }
   ],
   "source": [
    "df['gender'].replace('M',1,inplace=True)\n",
    "df['gender'].replace('F',0,inplace=True)\n",
    "df['outcome'].astype(int)\n",
    "df['age'].apply(int)"
   ]
  },
  {
   "cell_type": "code",
   "execution_count": 10,
   "id": "d97138d7",
   "metadata": {},
   "outputs": [
    {
     "name": "stdout",
     "output_type": "stream",
     "text": [
      "<class 'pandas.core.frame.DataFrame'>\n",
      "RangeIndex: 36489 entries, 0 to 36488\n",
      "Data columns (total 34 columns):\n",
      " #   Column                      Non-Null Count  Dtype  \n",
      "---  ------                      --------------  -----  \n",
      " 0   gender                      36489 non-null  int64  \n",
      " 1   age                         36489 non-null  float64\n",
      " 2   heart_rate_min              36417 non-null  float64\n",
      " 3   heart_rate_max              36417 non-null  float64\n",
      " 4   heart_rate_mean             36417 non-null  float64\n",
      " 5   mbp_min                     36401 non-null  float64\n",
      " 6   mbp_max                     36401 non-null  float64\n",
      " 7   mbp_mean                    36401 non-null  float64\n",
      " 8   sbp_min                     36343 non-null  float64\n",
      " 9   sbp_max                     36343 non-null  float64\n",
      " 10  sbp_mean                    36343 non-null  float64\n",
      " 11  dbp_min                     36341 non-null  float64\n",
      " 12  dbp_max                     36341 non-null  float64\n",
      " 13  dbp_mean                    36341 non-null  float64\n",
      " 14  temperature_min             36126 non-null  float64\n",
      " 15  temperature_max             36126 non-null  float64\n",
      " 16  temperature_mean            36126 non-null  float64\n",
      " 17  glucose_min                 36191 non-null  float64\n",
      " 18  glucose_max                 36191 non-null  float64\n",
      " 19  wbc_min                     36235 non-null  float64\n",
      " 20  wbc_max                     36235 non-null  float64\n",
      " 21  creatinine_min              36291 non-null  float64\n",
      " 22  creatinine_max              36291 non-null  float64\n",
      " 23  hemoglobin_min              36232 non-null  float64\n",
      " 24  hemoglobin_max              36232 non-null  float64\n",
      " 25  pt_min                      32345 non-null  float64\n",
      " 26  pt_max                      32345 non-null  float64\n",
      " 27  urineoutput                 35073 non-null  float64\n",
      " 28  sofa_coagulation            36235 non-null  float64\n",
      " 29  sofa_cardiovascular         36402 non-null  float64\n",
      " 30  sofa_cns                    36468 non-null  float64\n",
      " 31  sofa_renal                  36467 non-null  float64\n",
      " 32  charlson_comorbidity_index  36489 non-null  int64  \n",
      " 33  outcome                     36489 non-null  bool   \n",
      "dtypes: bool(1), float64(31), int64(2)\n",
      "memory usage: 9.2 MB\n"
     ]
    }
   ],
   "source": [
    "df.dropna(axis=1,thresh=20000,inplace=True)\n",
    "df.info()"
   ]
  },
  {
   "cell_type": "code",
   "execution_count": 11,
   "id": "960268a5",
   "metadata": {},
   "outputs": [
    {
     "data": {
      "text/plain": [
       "0        0\n",
       "1        0\n",
       "2        0\n",
       "3        0\n",
       "4        0\n",
       "        ..\n",
       "36484    0\n",
       "36485    0\n",
       "36486    0\n",
       "36487    0\n",
       "36488    0\n",
       "Name: outcome, Length: 36489, dtype: int32"
      ]
     },
     "execution_count": 11,
     "metadata": {},
     "output_type": "execute_result"
    }
   ],
   "source": [
    "df_label=df['outcome'].astype(int)\n",
    "df_features=df.drop([\"outcome\"],axis=1)\n",
    "df_label"
   ]
  },
  {
   "cell_type": "code",
   "execution_count": 12,
   "id": "5cc24c40",
   "metadata": {},
   "outputs": [
    {
     "data": {
      "text/plain": [
       "(36489, 33)"
      ]
     },
     "execution_count": 12,
     "metadata": {},
     "output_type": "execute_result"
    }
   ],
   "source": [
    "imputer=KNNImputer(n_neighbors=2)\n",
    "df_filled=imputer.fit_transform(df_features)\n",
    "df_filled.shape"
   ]
  },
  {
   "cell_type": "code",
   "execution_count": 13,
   "id": "844a82dd",
   "metadata": {},
   "outputs": [
    {
     "data": {
      "text/plain": [
       "(36489, 10)"
      ]
     },
     "execution_count": 13,
     "metadata": {},
     "output_type": "execute_result"
    }
   ],
   "source": [
    "model_pca=PCA(n_components=10)\n",
    "df_features_pca=model_pca.fit(df_filled).transform(df_filled)\n",
    "df_features_pca.shape"
   ]
  },
  {
   "cell_type": "markdown",
   "id": "99d130aa",
   "metadata": {},
   "source": [
    "### Train start"
   ]
  },
  {
   "cell_type": "code",
   "execution_count": 14,
   "id": "2e2f3d36",
   "metadata": {},
   "outputs": [],
   "source": [
    "df_features_train, df_features_test, label_train, label_test = train_test_split(df_features_pca, df_label, test_size=0.3, random_state=0)"
   ]
  },
  {
   "cell_type": "code",
   "execution_count": 15,
   "id": "4342799c",
   "metadata": {},
   "outputs": [],
   "source": [
    "sc = StandardScaler()\n",
    "sc.fit(df_features_train)\n",
    "df_features_train = sc.transform(df_features_train)\n",
    "df_features_test = sc.transform(df_features_test)"
   ]
  },
  {
   "cell_type": "code",
   "execution_count": 16,
   "id": "d76e2cec",
   "metadata": {},
   "outputs": [
    {
     "data": {
      "text/html": [
       "<style>#sk-container-id-1 {color: black;background-color: white;}#sk-container-id-1 pre{padding: 0;}#sk-container-id-1 div.sk-toggleable {background-color: white;}#sk-container-id-1 label.sk-toggleable__label {cursor: pointer;display: block;width: 100%;margin-bottom: 0;padding: 0.3em;box-sizing: border-box;text-align: center;}#sk-container-id-1 label.sk-toggleable__label-arrow:before {content: \"▸\";float: left;margin-right: 0.25em;color: #696969;}#sk-container-id-1 label.sk-toggleable__label-arrow:hover:before {color: black;}#sk-container-id-1 div.sk-estimator:hover label.sk-toggleable__label-arrow:before {color: black;}#sk-container-id-1 div.sk-toggleable__content {max-height: 0;max-width: 0;overflow: hidden;text-align: left;background-color: #f0f8ff;}#sk-container-id-1 div.sk-toggleable__content pre {margin: 0.2em;color: black;border-radius: 0.25em;background-color: #f0f8ff;}#sk-container-id-1 input.sk-toggleable__control:checked~div.sk-toggleable__content {max-height: 200px;max-width: 100%;overflow: auto;}#sk-container-id-1 input.sk-toggleable__control:checked~label.sk-toggleable__label-arrow:before {content: \"▾\";}#sk-container-id-1 div.sk-estimator input.sk-toggleable__control:checked~label.sk-toggleable__label {background-color: #d4ebff;}#sk-container-id-1 div.sk-label input.sk-toggleable__control:checked~label.sk-toggleable__label {background-color: #d4ebff;}#sk-container-id-1 input.sk-hidden--visually {border: 0;clip: rect(1px 1px 1px 1px);clip: rect(1px, 1px, 1px, 1px);height: 1px;margin: -1px;overflow: hidden;padding: 0;position: absolute;width: 1px;}#sk-container-id-1 div.sk-estimator {font-family: monospace;background-color: #f0f8ff;border: 1px dotted black;border-radius: 0.25em;box-sizing: border-box;margin-bottom: 0.5em;}#sk-container-id-1 div.sk-estimator:hover {background-color: #d4ebff;}#sk-container-id-1 div.sk-parallel-item::after {content: \"\";width: 100%;border-bottom: 1px solid gray;flex-grow: 1;}#sk-container-id-1 div.sk-label:hover label.sk-toggleable__label {background-color: #d4ebff;}#sk-container-id-1 div.sk-serial::before {content: \"\";position: absolute;border-left: 1px solid gray;box-sizing: border-box;top: 0;bottom: 0;left: 50%;z-index: 0;}#sk-container-id-1 div.sk-serial {display: flex;flex-direction: column;align-items: center;background-color: white;padding-right: 0.2em;padding-left: 0.2em;position: relative;}#sk-container-id-1 div.sk-item {position: relative;z-index: 1;}#sk-container-id-1 div.sk-parallel {display: flex;align-items: stretch;justify-content: center;background-color: white;position: relative;}#sk-container-id-1 div.sk-item::before, #sk-container-id-1 div.sk-parallel-item::before {content: \"\";position: absolute;border-left: 1px solid gray;box-sizing: border-box;top: 0;bottom: 0;left: 50%;z-index: -1;}#sk-container-id-1 div.sk-parallel-item {display: flex;flex-direction: column;z-index: 1;position: relative;background-color: white;}#sk-container-id-1 div.sk-parallel-item:first-child::after {align-self: flex-end;width: 50%;}#sk-container-id-1 div.sk-parallel-item:last-child::after {align-self: flex-start;width: 50%;}#sk-container-id-1 div.sk-parallel-item:only-child::after {width: 0;}#sk-container-id-1 div.sk-dashed-wrapped {border: 1px dashed gray;margin: 0 0.4em 0.5em 0.4em;box-sizing: border-box;padding-bottom: 0.4em;background-color: white;}#sk-container-id-1 div.sk-label label {font-family: monospace;font-weight: bold;display: inline-block;line-height: 1.2em;}#sk-container-id-1 div.sk-label-container {text-align: center;}#sk-container-id-1 div.sk-container {/* jupyter's `normalize.less` sets `[hidden] { display: none; }` but bootstrap.min.css set `[hidden] { display: none !important; }` so we also need the `!important` here to be able to override the default hidden behavior on the sphinx rendered scikit-learn.org. See: https://github.com/scikit-learn/scikit-learn/issues/21755 */display: inline-block !important;position: relative;}#sk-container-id-1 div.sk-text-repr-fallback {display: none;}</style><div id=\"sk-container-id-1\" class=\"sk-top-container\"><div class=\"sk-text-repr-fallback\"><pre>LogisticRegression(C=1)</pre><b>In a Jupyter environment, please rerun this cell to show the HTML representation or trust the notebook. <br />On GitHub, the HTML representation is unable to render, please try loading this page with nbviewer.org.</b></div><div class=\"sk-container\" hidden><div class=\"sk-item\"><div class=\"sk-estimator sk-toggleable\"><input class=\"sk-toggleable__control sk-hidden--visually\" id=\"sk-estimator-id-1\" type=\"checkbox\" checked><label for=\"sk-estimator-id-1\" class=\"sk-toggleable__label sk-toggleable__label-arrow\">LogisticRegression</label><div class=\"sk-toggleable__content\"><pre>LogisticRegression(C=1)</pre></div></div></div></div></div>"
      ],
      "text/plain": [
       "LogisticRegression(C=1)"
      ]
     },
     "execution_count": 16,
     "metadata": {},
     "output_type": "execute_result"
    }
   ],
   "source": [
    "logreg = linear_model.LogisticRegression(C=1)\n",
    "logreg.fit(df_features_train, label_train)"
   ]
  },
  {
   "cell_type": "code",
   "execution_count": 17,
   "id": "2745186a",
   "metadata": {},
   "outputs": [
    {
     "data": {
      "text/plain": [
       "0.963825705672787"
      ]
     },
     "execution_count": 17,
     "metadata": {},
     "output_type": "execute_result"
    }
   ],
   "source": [
    "prepro = logreg.predict_proba(df_features_test)\n",
    "acc = logreg.score(df_features_test,label_test)\n",
    "acc"
   ]
  },
  {
   "cell_type": "code",
   "execution_count": 18,
   "id": "1f2b6a51",
   "metadata": {},
   "outputs": [],
   "source": [
    "clf = DecisionTreeClassifier(random_state=0)\n",
    "clf = clf.fit(df_features_train,label_train)"
   ]
  },
  {
   "cell_type": "code",
   "execution_count": 19,
   "id": "7e01bd07",
   "metadata": {},
   "outputs": [],
   "source": [
    "rfc = RandomForestClassifier(random_state=0)\n",
    "rfc = rfc.fit(df_features_train,label_train)"
   ]
  },
  {
   "cell_type": "code",
   "execution_count": 20,
   "id": "30fb200c",
   "metadata": {},
   "outputs": [
    {
     "data": {
      "text/plain": [
       "(0.9249109345026034, 0.9639170549008861)"
      ]
     },
     "execution_count": 20,
     "metadata": {},
     "output_type": "execute_result"
    }
   ],
   "source": [
    "score_c = clf.score(df_features_test,label_test)\n",
    "score_r = rfc.score(df_features_test,label_test)\n",
    "score_c,score_r"
   ]
  },
  {
   "cell_type": "code",
   "execution_count": 21,
   "id": "5af186ca",
   "metadata": {},
   "outputs": [
    {
     "data": {
      "text/html": [
       "<style>#sk-container-id-2 {color: black;background-color: white;}#sk-container-id-2 pre{padding: 0;}#sk-container-id-2 div.sk-toggleable {background-color: white;}#sk-container-id-2 label.sk-toggleable__label {cursor: pointer;display: block;width: 100%;margin-bottom: 0;padding: 0.3em;box-sizing: border-box;text-align: center;}#sk-container-id-2 label.sk-toggleable__label-arrow:before {content: \"▸\";float: left;margin-right: 0.25em;color: #696969;}#sk-container-id-2 label.sk-toggleable__label-arrow:hover:before {color: black;}#sk-container-id-2 div.sk-estimator:hover label.sk-toggleable__label-arrow:before {color: black;}#sk-container-id-2 div.sk-toggleable__content {max-height: 0;max-width: 0;overflow: hidden;text-align: left;background-color: #f0f8ff;}#sk-container-id-2 div.sk-toggleable__content pre {margin: 0.2em;color: black;border-radius: 0.25em;background-color: #f0f8ff;}#sk-container-id-2 input.sk-toggleable__control:checked~div.sk-toggleable__content {max-height: 200px;max-width: 100%;overflow: auto;}#sk-container-id-2 input.sk-toggleable__control:checked~label.sk-toggleable__label-arrow:before {content: \"▾\";}#sk-container-id-2 div.sk-estimator input.sk-toggleable__control:checked~label.sk-toggleable__label {background-color: #d4ebff;}#sk-container-id-2 div.sk-label input.sk-toggleable__control:checked~label.sk-toggleable__label {background-color: #d4ebff;}#sk-container-id-2 input.sk-hidden--visually {border: 0;clip: rect(1px 1px 1px 1px);clip: rect(1px, 1px, 1px, 1px);height: 1px;margin: -1px;overflow: hidden;padding: 0;position: absolute;width: 1px;}#sk-container-id-2 div.sk-estimator {font-family: monospace;background-color: #f0f8ff;border: 1px dotted black;border-radius: 0.25em;box-sizing: border-box;margin-bottom: 0.5em;}#sk-container-id-2 div.sk-estimator:hover {background-color: #d4ebff;}#sk-container-id-2 div.sk-parallel-item::after {content: \"\";width: 100%;border-bottom: 1px solid gray;flex-grow: 1;}#sk-container-id-2 div.sk-label:hover label.sk-toggleable__label {background-color: #d4ebff;}#sk-container-id-2 div.sk-serial::before {content: \"\";position: absolute;border-left: 1px solid gray;box-sizing: border-box;top: 0;bottom: 0;left: 50%;z-index: 0;}#sk-container-id-2 div.sk-serial {display: flex;flex-direction: column;align-items: center;background-color: white;padding-right: 0.2em;padding-left: 0.2em;position: relative;}#sk-container-id-2 div.sk-item {position: relative;z-index: 1;}#sk-container-id-2 div.sk-parallel {display: flex;align-items: stretch;justify-content: center;background-color: white;position: relative;}#sk-container-id-2 div.sk-item::before, #sk-container-id-2 div.sk-parallel-item::before {content: \"\";position: absolute;border-left: 1px solid gray;box-sizing: border-box;top: 0;bottom: 0;left: 50%;z-index: -1;}#sk-container-id-2 div.sk-parallel-item {display: flex;flex-direction: column;z-index: 1;position: relative;background-color: white;}#sk-container-id-2 div.sk-parallel-item:first-child::after {align-self: flex-end;width: 50%;}#sk-container-id-2 div.sk-parallel-item:last-child::after {align-self: flex-start;width: 50%;}#sk-container-id-2 div.sk-parallel-item:only-child::after {width: 0;}#sk-container-id-2 div.sk-dashed-wrapped {border: 1px dashed gray;margin: 0 0.4em 0.5em 0.4em;box-sizing: border-box;padding-bottom: 0.4em;background-color: white;}#sk-container-id-2 div.sk-label label {font-family: monospace;font-weight: bold;display: inline-block;line-height: 1.2em;}#sk-container-id-2 div.sk-label-container {text-align: center;}#sk-container-id-2 div.sk-container {/* jupyter's `normalize.less` sets `[hidden] { display: none; }` but bootstrap.min.css set `[hidden] { display: none !important; }` so we also need the `!important` here to be able to override the default hidden behavior on the sphinx rendered scikit-learn.org. See: https://github.com/scikit-learn/scikit-learn/issues/21755 */display: inline-block !important;position: relative;}#sk-container-id-2 div.sk-text-repr-fallback {display: none;}</style><div id=\"sk-container-id-2\" class=\"sk-top-container\"><div class=\"sk-text-repr-fallback\"><pre>SVC(C=10, kernel=&#x27;linear&#x27;)</pre><b>In a Jupyter environment, please rerun this cell to show the HTML representation or trust the notebook. <br />On GitHub, the HTML representation is unable to render, please try loading this page with nbviewer.org.</b></div><div class=\"sk-container\" hidden><div class=\"sk-item\"><div class=\"sk-estimator sk-toggleable\"><input class=\"sk-toggleable__control sk-hidden--visually\" id=\"sk-estimator-id-2\" type=\"checkbox\" checked><label for=\"sk-estimator-id-2\" class=\"sk-toggleable__label sk-toggleable__label-arrow\">SVC</label><div class=\"sk-toggleable__content\"><pre>SVC(C=10, kernel=&#x27;linear&#x27;)</pre></div></div></div></div></div>"
      ],
      "text/plain": [
       "SVC(C=10, kernel='linear')"
      ]
     },
     "execution_count": 21,
     "metadata": {},
     "output_type": "execute_result"
    }
   ],
   "source": [
    "svm_linear=svm.SVC(C=10,kernel=\"linear\",decision_function_shape=\"ovr\")\n",
    "svm_linear.fit(df_features_train, label_train)"
   ]
  },
  {
   "cell_type": "code",
   "execution_count": 22,
   "id": "6b748911",
   "metadata": {},
   "outputs": [
    {
     "data": {
      "text/plain": [
       "0.9639170549008861"
      ]
     },
     "execution_count": 22,
     "metadata": {},
     "output_type": "execute_result"
    }
   ],
   "source": [
    "test_svm= svm_linear.predict(df_features_test)\n",
    "score_svm = accuracy_score(label_test,test_svm)\n",
    "score_svm"
   ]
  },
  {
   "cell_type": "code",
   "execution_count": 23,
   "id": "7a52e4f6",
   "metadata": {},
   "outputs": [
    {
     "data": {
      "text/plain": [
       "0.03608294509911391"
      ]
     },
     "execution_count": 23,
     "metadata": {},
     "output_type": "execute_result"
    }
   ],
   "source": [
    "label_test.sum()/label_test.size"
   ]
  },
  {
   "cell_type": "code",
   "execution_count": 24,
   "id": "2bd5289b",
   "metadata": {},
   "outputs": [
    {
     "name": "stdout",
     "output_type": "stream",
     "text": [
      "Requirement already satisfied: imblearn in c:\\users\\axleng\\appdata\\local\\programs\\python\\python310\\lib\\site-packages (0.0)\n",
      "Requirement already satisfied: imbalanced-learn in c:\\users\\axleng\\appdata\\local\\programs\\python\\python310\\lib\\site-packages (from imblearn) (0.10.1)\n",
      "Requirement already satisfied: numpy>=1.17.3 in c:\\users\\axleng\\appdata\\local\\programs\\python\\python310\\lib\\site-packages (from imbalanced-learn->imblearn) (1.23.4)\n",
      "Requirement already satisfied: threadpoolctl>=2.0.0 in c:\\users\\axleng\\appdata\\local\\programs\\python\\python310\\lib\\site-packages (from imbalanced-learn->imblearn) (3.1.0)\n",
      "Requirement already satisfied: scikit-learn>=1.0.2 in c:\\users\\axleng\\appdata\\local\\programs\\python\\python310\\lib\\site-packages (from imbalanced-learn->imblearn) (1.2.1)\n",
      "Requirement already satisfied: scipy>=1.3.2 in c:\\users\\axleng\\appdata\\local\\programs\\python\\python310\\lib\\site-packages (from imbalanced-learn->imblearn) (1.9.3)\n",
      "Requirement already satisfied: joblib>=1.1.1 in c:\\users\\axleng\\appdata\\local\\programs\\python\\python310\\lib\\site-packages (from imbalanced-learn->imblearn) (1.2.0)\n",
      "Note: you may need to restart the kernel to use updated packages.\n"
     ]
    },
    {
     "name": "stderr",
     "output_type": "stream",
     "text": [
      "\n",
      "[notice] A new release of pip available: 22.3 -> 23.0.1\n",
      "[notice] To update, run: python.exe -m pip install --upgrade pip\n"
     ]
    }
   ],
   "source": [
    "pip install imblearn"
   ]
  },
  {
   "cell_type": "code",
   "execution_count": 25,
   "id": "5aa22c90",
   "metadata": {},
   "outputs": [],
   "source": [
    "from imblearn.over_sampling import RandomOverSampler"
   ]
  },
  {
   "cell_type": "code",
   "execution_count": null,
   "id": "af8088f4",
   "metadata": {},
   "outputs": [],
   "source": []
  },
  {
   "cell_type": "code",
   "execution_count": 26,
   "id": "6dc9c119",
   "metadata": {},
   "outputs": [],
   "source": [
    "ros = RandomOverSampler(random_state=0)\n",
    "df_features_resampled,label_resampled= ros.fit_resample(df_features_pca,df_label)"
   ]
  },
  {
   "cell_type": "code",
   "execution_count": 27,
   "id": "f5566e4a",
   "metadata": {},
   "outputs": [],
   "source": [
    "df_features_resampled_train, df_features_resampled_test, label_resampled_train, label_resampled_test = train_test_split(df_features_resampled, label_resampled, test_size=0.3, random_state=0)"
   ]
  },
  {
   "cell_type": "code",
   "execution_count": null,
   "id": "f5ecf839",
   "metadata": {},
   "outputs": [],
   "source": [
    "\n"
   ]
  },
  {
   "cell_type": "code",
   "execution_count": 28,
   "id": "5f2eb97c",
   "metadata": {},
   "outputs": [
    {
     "name": "stderr",
     "output_type": "stream",
     "text": [
      "C:\\Users\\Axleng\\AppData\\Local\\Programs\\Python\\Python310\\lib\\site-packages\\sklearn\\linear_model\\_logistic.py:458: ConvergenceWarning: lbfgs failed to converge (status=1):\n",
      "STOP: TOTAL NO. of ITERATIONS REACHED LIMIT.\n",
      "\n",
      "Increase the number of iterations (max_iter) or scale the data as shown in:\n",
      "    https://scikit-learn.org/stable/modules/preprocessing.html\n",
      "Please also refer to the documentation for alternative solver options:\n",
      "    https://scikit-learn.org/stable/modules/linear_model.html#logistic-regression\n",
      "  n_iter_i = _check_optimize_result(\n"
     ]
    },
    {
     "data": {
      "text/html": [
       "<style>#sk-container-id-3 {color: black;background-color: white;}#sk-container-id-3 pre{padding: 0;}#sk-container-id-3 div.sk-toggleable {background-color: white;}#sk-container-id-3 label.sk-toggleable__label {cursor: pointer;display: block;width: 100%;margin-bottom: 0;padding: 0.3em;box-sizing: border-box;text-align: center;}#sk-container-id-3 label.sk-toggleable__label-arrow:before {content: \"▸\";float: left;margin-right: 0.25em;color: #696969;}#sk-container-id-3 label.sk-toggleable__label-arrow:hover:before {color: black;}#sk-container-id-3 div.sk-estimator:hover label.sk-toggleable__label-arrow:before {color: black;}#sk-container-id-3 div.sk-toggleable__content {max-height: 0;max-width: 0;overflow: hidden;text-align: left;background-color: #f0f8ff;}#sk-container-id-3 div.sk-toggleable__content pre {margin: 0.2em;color: black;border-radius: 0.25em;background-color: #f0f8ff;}#sk-container-id-3 input.sk-toggleable__control:checked~div.sk-toggleable__content {max-height: 200px;max-width: 100%;overflow: auto;}#sk-container-id-3 input.sk-toggleable__control:checked~label.sk-toggleable__label-arrow:before {content: \"▾\";}#sk-container-id-3 div.sk-estimator input.sk-toggleable__control:checked~label.sk-toggleable__label {background-color: #d4ebff;}#sk-container-id-3 div.sk-label input.sk-toggleable__control:checked~label.sk-toggleable__label {background-color: #d4ebff;}#sk-container-id-3 input.sk-hidden--visually {border: 0;clip: rect(1px 1px 1px 1px);clip: rect(1px, 1px, 1px, 1px);height: 1px;margin: -1px;overflow: hidden;padding: 0;position: absolute;width: 1px;}#sk-container-id-3 div.sk-estimator {font-family: monospace;background-color: #f0f8ff;border: 1px dotted black;border-radius: 0.25em;box-sizing: border-box;margin-bottom: 0.5em;}#sk-container-id-3 div.sk-estimator:hover {background-color: #d4ebff;}#sk-container-id-3 div.sk-parallel-item::after {content: \"\";width: 100%;border-bottom: 1px solid gray;flex-grow: 1;}#sk-container-id-3 div.sk-label:hover label.sk-toggleable__label {background-color: #d4ebff;}#sk-container-id-3 div.sk-serial::before {content: \"\";position: absolute;border-left: 1px solid gray;box-sizing: border-box;top: 0;bottom: 0;left: 50%;z-index: 0;}#sk-container-id-3 div.sk-serial {display: flex;flex-direction: column;align-items: center;background-color: white;padding-right: 0.2em;padding-left: 0.2em;position: relative;}#sk-container-id-3 div.sk-item {position: relative;z-index: 1;}#sk-container-id-3 div.sk-parallel {display: flex;align-items: stretch;justify-content: center;background-color: white;position: relative;}#sk-container-id-3 div.sk-item::before, #sk-container-id-3 div.sk-parallel-item::before {content: \"\";position: absolute;border-left: 1px solid gray;box-sizing: border-box;top: 0;bottom: 0;left: 50%;z-index: -1;}#sk-container-id-3 div.sk-parallel-item {display: flex;flex-direction: column;z-index: 1;position: relative;background-color: white;}#sk-container-id-3 div.sk-parallel-item:first-child::after {align-self: flex-end;width: 50%;}#sk-container-id-3 div.sk-parallel-item:last-child::after {align-self: flex-start;width: 50%;}#sk-container-id-3 div.sk-parallel-item:only-child::after {width: 0;}#sk-container-id-3 div.sk-dashed-wrapped {border: 1px dashed gray;margin: 0 0.4em 0.5em 0.4em;box-sizing: border-box;padding-bottom: 0.4em;background-color: white;}#sk-container-id-3 div.sk-label label {font-family: monospace;font-weight: bold;display: inline-block;line-height: 1.2em;}#sk-container-id-3 div.sk-label-container {text-align: center;}#sk-container-id-3 div.sk-container {/* jupyter's `normalize.less` sets `[hidden] { display: none; }` but bootstrap.min.css set `[hidden] { display: none !important; }` so we also need the `!important` here to be able to override the default hidden behavior on the sphinx rendered scikit-learn.org. See: https://github.com/scikit-learn/scikit-learn/issues/21755 */display: inline-block !important;position: relative;}#sk-container-id-3 div.sk-text-repr-fallback {display: none;}</style><div id=\"sk-container-id-3\" class=\"sk-top-container\"><div class=\"sk-text-repr-fallback\"><pre>LogisticRegression(C=1.5)</pre><b>In a Jupyter environment, please rerun this cell to show the HTML representation or trust the notebook. <br />On GitHub, the HTML representation is unable to render, please try loading this page with nbviewer.org.</b></div><div class=\"sk-container\" hidden><div class=\"sk-item\"><div class=\"sk-estimator sk-toggleable\"><input class=\"sk-toggleable__control sk-hidden--visually\" id=\"sk-estimator-id-3\" type=\"checkbox\" checked><label for=\"sk-estimator-id-3\" class=\"sk-toggleable__label sk-toggleable__label-arrow\">LogisticRegression</label><div class=\"sk-toggleable__content\"><pre>LogisticRegression(C=1.5)</pre></div></div></div></div></div>"
      ],
      "text/plain": [
       "LogisticRegression(C=1.5)"
      ]
     },
     "execution_count": 28,
     "metadata": {},
     "output_type": "execute_result"
    }
   ],
   "source": [
    "logreg_resampled = linear_model.LogisticRegression(C=1.5)\n",
    "logreg_resampled.fit(df_features_resampled_train,label_resampled_train)"
   ]
  },
  {
   "cell_type": "code",
   "execution_count": 29,
   "id": "6fb582a5",
   "metadata": {},
   "outputs": [
    {
     "data": {
      "text/plain": [
       "0.5818164580963215"
      ]
     },
     "execution_count": 29,
     "metadata": {},
     "output_type": "execute_result"
    }
   ],
   "source": [
    "prepro_resample = logreg_resampled.predict_proba(df_features_resampled_test)\n",
    "acc_resample = logreg_resampled.score(df_features_resampled_test,label_resampled_test)\n",
    "acc_resample "
   ]
  },
  {
   "cell_type": "code",
   "execution_count": 30,
   "id": "b35f81cb",
   "metadata": {},
   "outputs": [],
   "source": [
    "clf_resample = clf.fit(df_features_resampled_train,label_resampled_train)"
   ]
  },
  {
   "cell_type": "code",
   "execution_count": 31,
   "id": "92fb8cc4",
   "metadata": {},
   "outputs": [],
   "source": [
    "rfc_resample = rfc.fit(df_features_resampled_train,label_resampled_train)"
   ]
  },
  {
   "cell_type": "code",
   "execution_count": 32,
   "id": "cda0fc6f",
   "metadata": {},
   "outputs": [
    {
     "data": {
      "text/plain": [
       "(0.9743079256731134, 1.0)"
      ]
     },
     "execution_count": 32,
     "metadata": {},
     "output_type": "execute_result"
    }
   ],
   "source": [
    "score_c = clf_resample.score(df_features_resampled_test,label_resampled_test)\n",
    "score_r = rfc_resample.score(df_features_resampled_test,label_resampled_test)\n",
    "score_c,score_r"
   ]
  },
  {
   "cell_type": "code",
   "execution_count": null,
   "id": "d8b7d438",
   "metadata": {},
   "outputs": [],
   "source": [
    "svm_linear_resampled=svm.SVC(C=10,kernel=\"linear\",decision_function_shape=\"ovr\")\n",
    "svm_linear_resampled.fit(df_features_resampled_train,label_resampled_train)"
   ]
  },
  {
   "cell_type": "code",
   "execution_count": null,
   "id": "edd8ff48",
   "metadata": {},
   "outputs": [],
   "source": [
    "resampled_test_svm= svm_linear.predict(df_features_resampled_test)\n",
    "score_resampled_svm = accuracy_score(label_resampled_test,resampled_test_svm)\n",
    "score_resampled_svm"
   ]
  },
  {
   "cell_type": "markdown",
   "id": "2fa66de4",
   "metadata": {},
   "source": [
    "logic without selection"
   ]
  },
  {
   "cell_type": "code",
   "execution_count": null,
   "id": "39b71829",
   "metadata": {},
   "outputs": [],
   "source": [
    "df_features_resampled_logic,label_resampled_logic= ros.fit_resample(df_filled,df_label)"
   ]
  },
  {
   "cell_type": "code",
   "execution_count": null,
   "id": "3cce0ead",
   "metadata": {},
   "outputs": [],
   "source": [
    "df_features_resampled_logic_train, df_features_resampled_logic_test, label_resampled_logic_train, label_resampled_logic_test = train_test_split(df_features_resampled_logic, label_resampled_logic, test_size=0.3, random_state=0)"
   ]
  },
  {
   "cell_type": "code",
   "execution_count": null,
   "id": "645981ec",
   "metadata": {},
   "outputs": [],
   "source": [
    "logreg_resampled_logic = linear_model.LogisticRegression(C=1.5)\n",
    "logreg_resampled_logic.fit(df_features_resampled_logic_train,label_resampled_logic_train)"
   ]
  },
  {
   "cell_type": "code",
   "execution_count": null,
   "id": "d7c1bb44",
   "metadata": {},
   "outputs": [],
   "source": [
    "prepro_resample_logic = logreg_resampled_logic.predict_proba(df_features_resampled_logic_test)\n",
    "acc_resample_logic = logreg_resampled_logic.score(df_features_resampled_logic_test,label_resampled_logic_test)\n",
    "acc_resample_logic "
   ]
  }
 ],
 "metadata": {
  "kernelspec": {
   "display_name": "Python 3 (ipykernel)",
   "language": "python",
   "name": "python3"
  },
  "language_info": {
   "codemirror_mode": {
    "name": "ipython",
    "version": 3
   },
   "file_extension": ".py",
   "mimetype": "text/x-python",
   "name": "python",
   "nbconvert_exporter": "python",
   "pygments_lexer": "ipython3",
   "version": "3.10.5"
  }
 },
 "nbformat": 4,
 "nbformat_minor": 5
}
